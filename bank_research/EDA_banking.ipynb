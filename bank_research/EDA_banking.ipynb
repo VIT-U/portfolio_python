{
  "nbformat": 4,
  "nbformat_minor": 0,
  "metadata": {
    "colab": {
      "provenance": []
    },
    "kernelspec": {
      "name": "python3",
      "display_name": "Python 3"
    },
    "language_info": {
      "name": "python"
    }
  },
  "cells": [
    {
      "cell_type": "markdown",
      "source": [
        "# Загрузка данных"
      ],
      "metadata": {
        "id": "IifpGhY25qzt"
      }
    },
    {
      "cell_type": "markdown",
      "source": [
        "Данные взяты с сайта kaggle\n",
        "[банковские транзакции](https://www.kaggle.com/datasets/shivamb/bank-customer-segmentation)\n",
        "\n",
        "Этот набор данных содержит более миллиона транзакций, совершённых более чем 800 тысячами клиентов банка в Индии. Данные содержат ​​информацию:\n",
        "* `TransactionID` - идентификатор транзакции,\n",
        "* `CustomerID` - идентификатор пользователя,\n",
        "* `CustomerDOB` - дата рождения,\n",
        "* `CustGender` - пол,\n",
        "* `CustLocation` - местоположение (город),\n",
        "* `CustAccountBalance` - баланс счёта на момент транзакции, в индийских рупиях,\n",
        "* `TransactionDate` - дата транзакции,\n",
        "* `TransactionTime` - время транзакции,\n",
        "* `TransactionAmount (INR)` - сумма транзакции, в индийских рупиях."
      ],
      "metadata": {
        "id": "pF13Mgzc_KOl"
      }
    },
    {
      "cell_type": "code",
      "execution_count": null,
      "metadata": {
        "id": "H2_HusIj4x6r"
      },
      "outputs": [],
      "source": [
        "# Импортируем библиотеки\n",
        "import pandas as pd\n",
        "import re\n",
        "import numpy as np\n",
        "import matplotlib.pyplot as plt\n",
        "from matplotlib.ticker import FuncFormatter\n",
        "import seaborn as sns"
      ]
    },
    {
      "cell_type": "code",
      "source": [
        "# Загружаем данные в датафрейм\n",
        "df = pd.read_csv('/content/drive/MyDrive/zerocod/z_14/bank/bank_clients_transactions.csv')"
      ],
      "metadata": {
        "id": "mV_a4kf63Viz"
      },
      "execution_count": null,
      "outputs": []
    },
    {
      "cell_type": "code",
      "source": [
        "# Смотрим основную информацию по столбцам\n",
        "df.info()"
      ],
      "metadata": {
        "colab": {
          "base_uri": "https://localhost:8080/"
        },
        "id": "i3JiGRsK4oEr",
        "outputId": "23f1e67d-2f14-4547-ea22-856edb62d096"
      },
      "execution_count": null,
      "outputs": [
        {
          "output_type": "stream",
          "name": "stdout",
          "text": [
            "<class 'pandas.core.frame.DataFrame'>\n",
            "RangeIndex: 1048567 entries, 0 to 1048566\n",
            "Data columns (total 9 columns):\n",
            " #   Column                   Non-Null Count    Dtype  \n",
            "---  ------                   --------------    -----  \n",
            " 0   TransactionID            1048567 non-null  object \n",
            " 1   CustomerID               1048567 non-null  object \n",
            " 2   CustomerDOB              1045170 non-null  object \n",
            " 3   CustGender               1047467 non-null  object \n",
            " 4   CustLocation             1048416 non-null  object \n",
            " 5   CustAccountBalance       1046198 non-null  float64\n",
            " 6   TransactionDate          1048567 non-null  object \n",
            " 7   TransactionTime          1048567 non-null  int64  \n",
            " 8   TransactionAmount (INR)  1048567 non-null  float64\n",
            "dtypes: float64(2), int64(1), object(6)\n",
            "memory usage: 72.0+ MB\n"
          ]
        }
      ]
    },
    {
      "cell_type": "code",
      "source": [
        "# Выводим первые строки датафрейма\n",
        "df.head()"
      ],
      "metadata": {
        "colab": {
          "base_uri": "https://localhost:8080/",
          "height": 206
        },
        "id": "d5OuIch859Uz",
        "outputId": "e231f47f-4f1f-4d1e-bd59-879d782d0a7a"
      },
      "execution_count": null,
      "outputs": [
        {
          "output_type": "execute_result",
          "data": {
            "text/plain": [
              "  TransactionID CustomerID CustomerDOB CustGender CustLocation  \\\n",
              "0            T1   C5841053     10/1/94          F   JAMSHEDPUR   \n",
              "1            T2   C2142763      4/4/57          M      JHAJJAR   \n",
              "2            T3   C4417068    26/11/96          F       MUMBAI   \n",
              "3            T4   C5342380     14/9/73          F       MUMBAI   \n",
              "4            T5   C9031234     24/3/88          F  NAVI MUMBAI   \n",
              "\n",
              "   CustAccountBalance TransactionDate  TransactionTime  \\\n",
              "0            17819.05          2/8/16           143207   \n",
              "1             2270.69          2/8/16           141858   \n",
              "2            17874.44          2/8/16           142712   \n",
              "3           866503.21          2/8/16           142714   \n",
              "4             6714.43          2/8/16           181156   \n",
              "\n",
              "   TransactionAmount (INR)  \n",
              "0                     25.0  \n",
              "1                  27999.0  \n",
              "2                    459.0  \n",
              "3                   2060.0  \n",
              "4                   1762.5  "
            ],
            "text/html": [
              "\n",
              "  <div id=\"df-7ebbdbb0-74fa-4085-9284-d42634d34727\" class=\"colab-df-container\">\n",
              "    <div>\n",
              "<style scoped>\n",
              "    .dataframe tbody tr th:only-of-type {\n",
              "        vertical-align: middle;\n",
              "    }\n",
              "\n",
              "    .dataframe tbody tr th {\n",
              "        vertical-align: top;\n",
              "    }\n",
              "\n",
              "    .dataframe thead th {\n",
              "        text-align: right;\n",
              "    }\n",
              "</style>\n",
              "<table border=\"1\" class=\"dataframe\">\n",
              "  <thead>\n",
              "    <tr style=\"text-align: right;\">\n",
              "      <th></th>\n",
              "      <th>TransactionID</th>\n",
              "      <th>CustomerID</th>\n",
              "      <th>CustomerDOB</th>\n",
              "      <th>CustGender</th>\n",
              "      <th>CustLocation</th>\n",
              "      <th>CustAccountBalance</th>\n",
              "      <th>TransactionDate</th>\n",
              "      <th>TransactionTime</th>\n",
              "      <th>TransactionAmount (INR)</th>\n",
              "    </tr>\n",
              "  </thead>\n",
              "  <tbody>\n",
              "    <tr>\n",
              "      <th>0</th>\n",
              "      <td>T1</td>\n",
              "      <td>C5841053</td>\n",
              "      <td>10/1/94</td>\n",
              "      <td>F</td>\n",
              "      <td>JAMSHEDPUR</td>\n",
              "      <td>17819.05</td>\n",
              "      <td>2/8/16</td>\n",
              "      <td>143207</td>\n",
              "      <td>25.0</td>\n",
              "    </tr>\n",
              "    <tr>\n",
              "      <th>1</th>\n",
              "      <td>T2</td>\n",
              "      <td>C2142763</td>\n",
              "      <td>4/4/57</td>\n",
              "      <td>M</td>\n",
              "      <td>JHAJJAR</td>\n",
              "      <td>2270.69</td>\n",
              "      <td>2/8/16</td>\n",
              "      <td>141858</td>\n",
              "      <td>27999.0</td>\n",
              "    </tr>\n",
              "    <tr>\n",
              "      <th>2</th>\n",
              "      <td>T3</td>\n",
              "      <td>C4417068</td>\n",
              "      <td>26/11/96</td>\n",
              "      <td>F</td>\n",
              "      <td>MUMBAI</td>\n",
              "      <td>17874.44</td>\n",
              "      <td>2/8/16</td>\n",
              "      <td>142712</td>\n",
              "      <td>459.0</td>\n",
              "    </tr>\n",
              "    <tr>\n",
              "      <th>3</th>\n",
              "      <td>T4</td>\n",
              "      <td>C5342380</td>\n",
              "      <td>14/9/73</td>\n",
              "      <td>F</td>\n",
              "      <td>MUMBAI</td>\n",
              "      <td>866503.21</td>\n",
              "      <td>2/8/16</td>\n",
              "      <td>142714</td>\n",
              "      <td>2060.0</td>\n",
              "    </tr>\n",
              "    <tr>\n",
              "      <th>4</th>\n",
              "      <td>T5</td>\n",
              "      <td>C9031234</td>\n",
              "      <td>24/3/88</td>\n",
              "      <td>F</td>\n",
              "      <td>NAVI MUMBAI</td>\n",
              "      <td>6714.43</td>\n",
              "      <td>2/8/16</td>\n",
              "      <td>181156</td>\n",
              "      <td>1762.5</td>\n",
              "    </tr>\n",
              "  </tbody>\n",
              "</table>\n",
              "</div>\n",
              "    <div class=\"colab-df-buttons\">\n",
              "\n",
              "  <div class=\"colab-df-container\">\n",
              "    <button class=\"colab-df-convert\" onclick=\"convertToInteractive('df-7ebbdbb0-74fa-4085-9284-d42634d34727')\"\n",
              "            title=\"Convert this dataframe to an interactive table.\"\n",
              "            style=\"display:none;\">\n",
              "\n",
              "  <svg xmlns=\"http://www.w3.org/2000/svg\" height=\"24px\" viewBox=\"0 -960 960 960\">\n",
              "    <path d=\"M120-120v-720h720v720H120Zm60-500h600v-160H180v160Zm220 220h160v-160H400v160Zm0 220h160v-160H400v160ZM180-400h160v-160H180v160Zm440 0h160v-160H620v160ZM180-180h160v-160H180v160Zm440 0h160v-160H620v160Z\"/>\n",
              "  </svg>\n",
              "    </button>\n",
              "\n",
              "  <style>\n",
              "    .colab-df-container {\n",
              "      display:flex;\n",
              "      gap: 12px;\n",
              "    }\n",
              "\n",
              "    .colab-df-convert {\n",
              "      background-color: #E8F0FE;\n",
              "      border: none;\n",
              "      border-radius: 50%;\n",
              "      cursor: pointer;\n",
              "      display: none;\n",
              "      fill: #1967D2;\n",
              "      height: 32px;\n",
              "      padding: 0 0 0 0;\n",
              "      width: 32px;\n",
              "    }\n",
              "\n",
              "    .colab-df-convert:hover {\n",
              "      background-color: #E2EBFA;\n",
              "      box-shadow: 0px 1px 2px rgba(60, 64, 67, 0.3), 0px 1px 3px 1px rgba(60, 64, 67, 0.15);\n",
              "      fill: #174EA6;\n",
              "    }\n",
              "\n",
              "    .colab-df-buttons div {\n",
              "      margin-bottom: 4px;\n",
              "    }\n",
              "\n",
              "    [theme=dark] .colab-df-convert {\n",
              "      background-color: #3B4455;\n",
              "      fill: #D2E3FC;\n",
              "    }\n",
              "\n",
              "    [theme=dark] .colab-df-convert:hover {\n",
              "      background-color: #434B5C;\n",
              "      box-shadow: 0px 1px 3px 1px rgba(0, 0, 0, 0.15);\n",
              "      filter: drop-shadow(0px 1px 2px rgba(0, 0, 0, 0.3));\n",
              "      fill: #FFFFFF;\n",
              "    }\n",
              "  </style>\n",
              "\n",
              "    <script>\n",
              "      const buttonEl =\n",
              "        document.querySelector('#df-7ebbdbb0-74fa-4085-9284-d42634d34727 button.colab-df-convert');\n",
              "      buttonEl.style.display =\n",
              "        google.colab.kernel.accessAllowed ? 'block' : 'none';\n",
              "\n",
              "      async function convertToInteractive(key) {\n",
              "        const element = document.querySelector('#df-7ebbdbb0-74fa-4085-9284-d42634d34727');\n",
              "        const dataTable =\n",
              "          await google.colab.kernel.invokeFunction('convertToInteractive',\n",
              "                                                    [key], {});\n",
              "        if (!dataTable) return;\n",
              "\n",
              "        const docLinkHtml = 'Like what you see? Visit the ' +\n",
              "          '<a target=\"_blank\" href=https://colab.research.google.com/notebooks/data_table.ipynb>data table notebook</a>'\n",
              "          + ' to learn more about interactive tables.';\n",
              "        element.innerHTML = '';\n",
              "        dataTable['output_type'] = 'display_data';\n",
              "        await google.colab.output.renderOutput(dataTable, element);\n",
              "        const docLink = document.createElement('div');\n",
              "        docLink.innerHTML = docLinkHtml;\n",
              "        element.appendChild(docLink);\n",
              "      }\n",
              "    </script>\n",
              "  </div>\n",
              "\n",
              "\n",
              "    <div id=\"df-4febbe50-f0a8-435a-b5f9-4d7a0327cc57\">\n",
              "      <button class=\"colab-df-quickchart\" onclick=\"quickchart('df-4febbe50-f0a8-435a-b5f9-4d7a0327cc57')\"\n",
              "                title=\"Suggest charts\"\n",
              "                style=\"display:none;\">\n",
              "\n",
              "<svg xmlns=\"http://www.w3.org/2000/svg\" height=\"24px\"viewBox=\"0 0 24 24\"\n",
              "     width=\"24px\">\n",
              "    <g>\n",
              "        <path d=\"M19 3H5c-1.1 0-2 .9-2 2v14c0 1.1.9 2 2 2h14c1.1 0 2-.9 2-2V5c0-1.1-.9-2-2-2zM9 17H7v-7h2v7zm4 0h-2V7h2v10zm4 0h-2v-4h2v4z\"/>\n",
              "    </g>\n",
              "</svg>\n",
              "      </button>\n",
              "\n",
              "<style>\n",
              "  .colab-df-quickchart {\n",
              "      --bg-color: #E8F0FE;\n",
              "      --fill-color: #1967D2;\n",
              "      --hover-bg-color: #E2EBFA;\n",
              "      --hover-fill-color: #174EA6;\n",
              "      --disabled-fill-color: #AAA;\n",
              "      --disabled-bg-color: #DDD;\n",
              "  }\n",
              "\n",
              "  [theme=dark] .colab-df-quickchart {\n",
              "      --bg-color: #3B4455;\n",
              "      --fill-color: #D2E3FC;\n",
              "      --hover-bg-color: #434B5C;\n",
              "      --hover-fill-color: #FFFFFF;\n",
              "      --disabled-bg-color: #3B4455;\n",
              "      --disabled-fill-color: #666;\n",
              "  }\n",
              "\n",
              "  .colab-df-quickchart {\n",
              "    background-color: var(--bg-color);\n",
              "    border: none;\n",
              "    border-radius: 50%;\n",
              "    cursor: pointer;\n",
              "    display: none;\n",
              "    fill: var(--fill-color);\n",
              "    height: 32px;\n",
              "    padding: 0;\n",
              "    width: 32px;\n",
              "  }\n",
              "\n",
              "  .colab-df-quickchart:hover {\n",
              "    background-color: var(--hover-bg-color);\n",
              "    box-shadow: 0 1px 2px rgba(60, 64, 67, 0.3), 0 1px 3px 1px rgba(60, 64, 67, 0.15);\n",
              "    fill: var(--button-hover-fill-color);\n",
              "  }\n",
              "\n",
              "  .colab-df-quickchart-complete:disabled,\n",
              "  .colab-df-quickchart-complete:disabled:hover {\n",
              "    background-color: var(--disabled-bg-color);\n",
              "    fill: var(--disabled-fill-color);\n",
              "    box-shadow: none;\n",
              "  }\n",
              "\n",
              "  .colab-df-spinner {\n",
              "    border: 2px solid var(--fill-color);\n",
              "    border-color: transparent;\n",
              "    border-bottom-color: var(--fill-color);\n",
              "    animation:\n",
              "      spin 1s steps(1) infinite;\n",
              "  }\n",
              "\n",
              "  @keyframes spin {\n",
              "    0% {\n",
              "      border-color: transparent;\n",
              "      border-bottom-color: var(--fill-color);\n",
              "      border-left-color: var(--fill-color);\n",
              "    }\n",
              "    20% {\n",
              "      border-color: transparent;\n",
              "      border-left-color: var(--fill-color);\n",
              "      border-top-color: var(--fill-color);\n",
              "    }\n",
              "    30% {\n",
              "      border-color: transparent;\n",
              "      border-left-color: var(--fill-color);\n",
              "      border-top-color: var(--fill-color);\n",
              "      border-right-color: var(--fill-color);\n",
              "    }\n",
              "    40% {\n",
              "      border-color: transparent;\n",
              "      border-right-color: var(--fill-color);\n",
              "      border-top-color: var(--fill-color);\n",
              "    }\n",
              "    60% {\n",
              "      border-color: transparent;\n",
              "      border-right-color: var(--fill-color);\n",
              "    }\n",
              "    80% {\n",
              "      border-color: transparent;\n",
              "      border-right-color: var(--fill-color);\n",
              "      border-bottom-color: var(--fill-color);\n",
              "    }\n",
              "    90% {\n",
              "      border-color: transparent;\n",
              "      border-bottom-color: var(--fill-color);\n",
              "    }\n",
              "  }\n",
              "</style>\n",
              "\n",
              "      <script>\n",
              "        async function quickchart(key) {\n",
              "          const quickchartButtonEl =\n",
              "            document.querySelector('#' + key + ' button');\n",
              "          quickchartButtonEl.disabled = true;  // To prevent multiple clicks.\n",
              "          quickchartButtonEl.classList.add('colab-df-spinner');\n",
              "          try {\n",
              "            const charts = await google.colab.kernel.invokeFunction(\n",
              "                'suggestCharts', [key], {});\n",
              "          } catch (error) {\n",
              "            console.error('Error during call to suggestCharts:', error);\n",
              "          }\n",
              "          quickchartButtonEl.classList.remove('colab-df-spinner');\n",
              "          quickchartButtonEl.classList.add('colab-df-quickchart-complete');\n",
              "        }\n",
              "        (() => {\n",
              "          let quickchartButtonEl =\n",
              "            document.querySelector('#df-4febbe50-f0a8-435a-b5f9-4d7a0327cc57 button');\n",
              "          quickchartButtonEl.style.display =\n",
              "            google.colab.kernel.accessAllowed ? 'block' : 'none';\n",
              "        })();\n",
              "      </script>\n",
              "    </div>\n",
              "    </div>\n",
              "  </div>\n"
            ],
            "application/vnd.google.colaboratory.intrinsic+json": {
              "type": "dataframe",
              "variable_name": "df"
            }
          },
          "metadata": {},
          "execution_count": 5
        }
      ]
    },
    {
      "cell_type": "markdown",
      "source": [
        "**Вывод:**\n",
        "\n",
        "* В датафрейме 9 колонок и 1,048,567 строк.\n",
        "* Названия колонок не соответствует рекомендуемому стилю.\n",
        "* Колонки с датой и временем `CustomerDOB`, `TransactionDate`, `TransactionTime` имеют несоответствующий тип данных, остальные колонки соответствуют своим значениям и присвоенным им типам данных.\n",
        "* В колонках `CustomerDOB`, `CustGender`, `CustLocation`, `CustAccountBalance` есть пропуски."
      ],
      "metadata": {
        "id": "A3get7BX5Q_g"
      }
    },
    {
      "cell_type": "markdown",
      "source": [
        "# Приведение столбцов к стилю snake_case"
      ],
      "metadata": {
        "id": "pRetML-V6JTR"
      }
    },
    {
      "cell_type": "code",
      "source": [
        "# Составим функцию для переименования столбцов\n",
        "def to_snake_case(column_name):\n",
        "    column_name = re.sub(r'[\\(\\)]', '', column_name)  # Удаляем скобки\n",
        "    column_name = re.sub(r'([a-z])([A-Z])', r'\\1_\\2', column_name)  # CamelCase to snake_case\n",
        "    return column_name.lower().replace(' ', '_')\n",
        "\n",
        "# Применяем ко всем колонкам\n",
        "df.columns = [to_snake_case(col) for col in df.columns]"
      ],
      "metadata": {
        "id": "gJJWX6xt6T1m"
      },
      "execution_count": null,
      "outputs": []
    },
    {
      "cell_type": "code",
      "source": [
        "# Проверяем результат\n",
        "df.columns"
      ],
      "metadata": {
        "colab": {
          "base_uri": "https://localhost:8080/"
        },
        "id": "r-bhvBBaO-kc",
        "outputId": "4f3afe66-b832-450a-a5ad-47497acc204c"
      },
      "execution_count": null,
      "outputs": [
        {
          "output_type": "execute_result",
          "data": {
            "text/plain": [
              "Index(['transaction_id', 'customer_id', 'customer_dob', 'cust_gender',\n",
              "       'cust_location', 'cust_account_balance', 'transaction_date',\n",
              "       'transaction_time', 'transaction_amount_inr'],\n",
              "      dtype='object')"
            ]
          },
          "metadata": {},
          "execution_count": 7
        }
      ]
    },
    {
      "cell_type": "markdown",
      "source": [
        "# Приведение типов данных"
      ],
      "metadata": {
        "id": "uMlYPMb86m5W"
      }
    },
    {
      "cell_type": "markdown",
      "source": [
        "**Колонка `transaction_date`**"
      ],
      "metadata": {
        "id": "ik9edECGWa45"
      }
    },
    {
      "cell_type": "markdown",
      "source": [
        "Начнем с колонки `transaction_date`, которая содержит дату транзакции. После первого знакомства с данными можно сделать вывод, что колонки с датами в формате \"день/месяц/год\"."
      ],
      "metadata": {
        "id": "I4bG5ozqN6br"
      }
    },
    {
      "cell_type": "code",
      "source": [
        "# Приводим дату к типу datetime\n",
        "df['transaction_date'] = pd.to_datetime(df['transaction_date'], format='%d/%m/%y', errors='coerce')\n",
        "\n",
        "# Проверим диапазон дат\n",
        "print(df['transaction_date'].min(), '-', df['transaction_date'].max())"
      ],
      "metadata": {
        "colab": {
          "base_uri": "https://localhost:8080/"
        },
        "id": "qNllHt_5OOlX",
        "outputId": "9402f85b-6bfc-4383-eed2-07968cafa291"
      },
      "execution_count": null,
      "outputs": [
        {
          "output_type": "stream",
          "name": "stdout",
          "text": [
            "2016-08-01 00:00:00 - 2016-10-21 00:00:00\n"
          ]
        }
      ]
    },
    {
      "cell_type": "markdown",
      "source": [
        "Даты транзакций за 2016 год с 1 августа по 21 октября. Получается данные за октябрь собраны не полностью.\n",
        "\n",
        "Далее изучим колонку `transaction_time`, где должно быть время транзакции."
      ],
      "metadata": {
        "id": "r8UPIG14Puy1"
      }
    },
    {
      "cell_type": "markdown",
      "source": [
        "**Колонка `transaction_time`**"
      ],
      "metadata": {
        "id": "bBgXS5ChWyOl"
      }
    },
    {
      "cell_type": "code",
      "source": [
        "# Проверим диапазон значений\n",
        "print(df['transaction_time'].min(), '-', df['transaction_time'].max())"
      ],
      "metadata": {
        "colab": {
          "base_uri": "https://localhost:8080/"
        },
        "id": "O7cF3ONwSOcQ",
        "outputId": "ecc1f668-c131-4482-be50-56b2716fb9c9"
      },
      "execution_count": null,
      "outputs": [
        {
          "output_type": "stream",
          "name": "stdout",
          "text": [
            "0 - 235959\n"
          ]
        }
      ]
    },
    {
      "cell_type": "code",
      "source": [
        "# Посмотрим еще на несколько значений\n",
        "df[(df['transaction_time'] == 59) |\n",
        "   (df['transaction_time'] == 5959) |\n",
        "   (df['transaction_time'] == 5900) |\n",
        "   (df['transaction_time'] == 61)\n",
        "  ]['transaction_time']"
      ],
      "metadata": {
        "colab": {
          "base_uri": "https://localhost:8080/",
          "height": 397
        },
        "id": "xIpFhXiTXKOA",
        "outputId": "67167afa-f074-4cab-c81b-92ceab5baf30"
      },
      "execution_count": null,
      "outputs": [
        {
          "output_type": "execute_result",
          "data": {
            "text/plain": [
              "199298    5959\n",
              "278281      59\n",
              "313673    5959\n",
              "417331    5900\n",
              "419014    5900\n",
              "594203    5959\n",
              "623064      59\n",
              "725863      59\n",
              "791461      59\n",
              "970722      59\n",
              "Name: transaction_time, dtype: int64"
            ],
            "text/html": [
              "<div>\n",
              "<style scoped>\n",
              "    .dataframe tbody tr th:only-of-type {\n",
              "        vertical-align: middle;\n",
              "    }\n",
              "\n",
              "    .dataframe tbody tr th {\n",
              "        vertical-align: top;\n",
              "    }\n",
              "\n",
              "    .dataframe thead th {\n",
              "        text-align: right;\n",
              "    }\n",
              "</style>\n",
              "<table border=\"1\" class=\"dataframe\">\n",
              "  <thead>\n",
              "    <tr style=\"text-align: right;\">\n",
              "      <th></th>\n",
              "      <th>transaction_time</th>\n",
              "    </tr>\n",
              "  </thead>\n",
              "  <tbody>\n",
              "    <tr>\n",
              "      <th>199298</th>\n",
              "      <td>5959</td>\n",
              "    </tr>\n",
              "    <tr>\n",
              "      <th>278281</th>\n",
              "      <td>59</td>\n",
              "    </tr>\n",
              "    <tr>\n",
              "      <th>313673</th>\n",
              "      <td>5959</td>\n",
              "    </tr>\n",
              "    <tr>\n",
              "      <th>417331</th>\n",
              "      <td>5900</td>\n",
              "    </tr>\n",
              "    <tr>\n",
              "      <th>419014</th>\n",
              "      <td>5900</td>\n",
              "    </tr>\n",
              "    <tr>\n",
              "      <th>594203</th>\n",
              "      <td>5959</td>\n",
              "    </tr>\n",
              "    <tr>\n",
              "      <th>623064</th>\n",
              "      <td>59</td>\n",
              "    </tr>\n",
              "    <tr>\n",
              "      <th>725863</th>\n",
              "      <td>59</td>\n",
              "    </tr>\n",
              "    <tr>\n",
              "      <th>791461</th>\n",
              "      <td>59</td>\n",
              "    </tr>\n",
              "    <tr>\n",
              "      <th>970722</th>\n",
              "      <td>59</td>\n",
              "    </tr>\n",
              "  </tbody>\n",
              "</table>\n",
              "</div><br><label><b>dtype:</b> int64</label>"
            ]
          },
          "metadata": {},
          "execution_count": 10
        }
      ]
    },
    {
      "cell_type": "markdown",
      "source": [
        "Похоже, что данные в колонке представленны в формате \"hhmmss\". Если две или 4 цифры, то формат \"ss\" и \"mmss\" соответственно."
      ],
      "metadata": {
        "id": "BkgXXttXeSdc"
      }
    },
    {
      "cell_type": "code",
      "source": [
        "# Преобразуем в строку и добавим нули в начало, чтобы каждое значение было из 6 цифр\n",
        "df['transaction_time'] = df['transaction_time'].astype(str).str.zfill(6)\n",
        "\n",
        "# Переводим значения во временной тип данных и оставляем только время\n",
        "df['transaction_time'] = pd.to_datetime(df['transaction_time'], format='%H%M%S').dt.time"
      ],
      "metadata": {
        "id": "VKrqeGxVg-Ii"
      },
      "execution_count": null,
      "outputs": []
    },
    {
      "cell_type": "markdown",
      "source": [
        "**Колонка `customer_dob`**"
      ],
      "metadata": {
        "id": "duByLUJfXG5H"
      }
    },
    {
      "cell_type": "markdown",
      "source": [
        "Изучим колонку `customer_dob`, которая содержит дату рождения."
      ],
      "metadata": {
        "id": "PIQGF1YDR6Px"
      }
    },
    {
      "cell_type": "code",
      "source": [
        "# Посмотрим первых 20 уникальных значений\n",
        "df['customer_dob'].unique()[:20]"
      ],
      "metadata": {
        "colab": {
          "base_uri": "https://localhost:8080/"
        },
        "id": "10LordKboMt4",
        "outputId": "0dc41a0f-0654-4dff-c073-23cdfb42cec6"
      },
      "execution_count": null,
      "outputs": [
        {
          "output_type": "execute_result",
          "data": {
            "text/plain": [
              "array(['10/1/94', '4/4/57', '26/11/96', '14/9/73', '24/3/88', '8/10/72',\n",
              "       '26/1/92', '27/1/82', '19/4/88', '22/6/84', '22/7/82', '7/7/88',\n",
              "       '13/6/78', '5/1/92', '24/3/78', '10/7/68', '1/1/1800', '16/7/89',\n",
              "       '11/1/91', '24/6/85'], dtype=object)"
            ]
          },
          "metadata": {},
          "execution_count": 12
        }
      ]
    },
    {
      "cell_type": "markdown",
      "source": [
        "Есть значение - '1/1/1800', похожее на ошибку. Это не похоже на дату рождения и оно выбивается из общего формата."
      ],
      "metadata": {
        "id": "wCkZtR8YS_UQ"
      }
    },
    {
      "cell_type": "code",
      "source": [
        "# Посмотрим количество таких значений\n",
        "df[df['customer_dob'] == '1/1/1800']['customer_dob'].count()"
      ],
      "metadata": {
        "colab": {
          "base_uri": "https://localhost:8080/"
        },
        "id": "eXWUQHibUQgo",
        "outputId": "2e9df287-d6ce-4a5d-86d2-9effd4254efb"
      },
      "execution_count": null,
      "outputs": [
        {
          "output_type": "execute_result",
          "data": {
            "text/plain": [
              "np.int64(57339)"
            ]
          },
          "metadata": {},
          "execution_count": 13
        }
      ]
    },
    {
      "cell_type": "markdown",
      "source": [
        "57 тыс. повторений - это явно техническая ошибка. При смене типа данных заменим это значение на 'NaT'."
      ],
      "metadata": {
        "id": "DfUx_6guVc84"
      }
    },
    {
      "cell_type": "code",
      "source": [
        "# Приводим дату к типу datetime и возникающие ошибки преобразуем в 'NaT'\n",
        "df['customer_dob'] = pd.to_datetime(df['customer_dob'], format='%d/%m/%y', errors='coerce')\n",
        "\n",
        "# Проверим диапазон дат\n",
        "print(df['customer_dob'].min(), '-', df['customer_dob'].max())"
      ],
      "metadata": {
        "id": "qt1WFUwh70Wa",
        "colab": {
          "base_uri": "https://localhost:8080/"
        },
        "outputId": "82837426-addb-46bb-c385-5fd13dc68c1b"
      },
      "execution_count": null,
      "outputs": [
        {
          "output_type": "stream",
          "name": "stdout",
          "text": [
            "1969-01-01 00:00:00 - 2068-12-31 00:00:00\n"
          ]
        }
      ]
    },
    {
      "cell_type": "markdown",
      "source": [
        " Верхняя граница получилась завышенной, так как используемая функция может относить ранние года к 21 веку. Дата транзакций в наших данных - 2016 год, а в Индии управлять самостоятельно счетом в банке могут начиная с [10 лет](https://www.ujjivansfb.in/banking-blogs/savings-account/rbi-new-rules-for-savings-accounts-for-kids), поэтому оставим 2006 год, а остальные переведем в 1900+."
      ],
      "metadata": {
        "id": "A2yW4tEWZma2"
      }
    },
    {
      "cell_type": "code",
      "source": [
        "# Для дат после 2006 года исправляем на 1900+ (если год больше, значит это прошлый век)\n",
        "mask = df['customer_dob'].dt.year > 2006\n",
        "df.loc[mask, 'customer_dob'] = df.loc[mask, 'customer_dob'] - pd.DateOffset(years=100)\n",
        "\n",
        "# Проверим диапазон дат\n",
        "print(df['customer_dob'].min(), '-', df['customer_dob'].max())"
      ],
      "metadata": {
        "colab": {
          "base_uri": "https://localhost:8080/"
        },
        "id": "Z0wdJsdbAyYo",
        "outputId": "7c9553f6-3305-4440-d1a7-f7d3339f1de3"
      },
      "execution_count": null,
      "outputs": [
        {
          "output_type": "stream",
          "name": "stdout",
          "text": [
            "1907-01-02 00:00:00 - 2006-11-08 00:00:00\n"
          ]
        }
      ]
    },
    {
      "cell_type": "code",
      "source": [
        "# Проверим результат\n",
        "df.info()\n",
        "display(df.head())"
      ],
      "metadata": {
        "colab": {
          "base_uri": "https://localhost:8080/",
          "height": 498
        },
        "id": "VOZUDCWC6r08",
        "outputId": "536e8010-2c23-44b1-fdba-e36e276ff50c"
      },
      "execution_count": null,
      "outputs": [
        {
          "output_type": "stream",
          "name": "stdout",
          "text": [
            "<class 'pandas.core.frame.DataFrame'>\n",
            "RangeIndex: 1048567 entries, 0 to 1048566\n",
            "Data columns (total 9 columns):\n",
            " #   Column                  Non-Null Count    Dtype         \n",
            "---  ------                  --------------    -----         \n",
            " 0   transaction_id          1048567 non-null  object        \n",
            " 1   customer_id             1048567 non-null  object        \n",
            " 2   customer_dob            987831 non-null   datetime64[ns]\n",
            " 3   cust_gender             1047467 non-null  object        \n",
            " 4   cust_location           1048416 non-null  object        \n",
            " 5   cust_account_balance    1046198 non-null  float64       \n",
            " 6   transaction_date        1048567 non-null  datetime64[ns]\n",
            " 7   transaction_time        1048567 non-null  object        \n",
            " 8   transaction_amount_inr  1048567 non-null  float64       \n",
            "dtypes: datetime64[ns](2), float64(2), object(5)\n",
            "memory usage: 72.0+ MB\n"
          ]
        },
        {
          "output_type": "display_data",
          "data": {
            "text/plain": [
              "  transaction_id customer_id customer_dob cust_gender cust_location  \\\n",
              "0             T1    C5841053   1994-01-10           F    JAMSHEDPUR   \n",
              "1             T2    C2142763   1957-04-04           M       JHAJJAR   \n",
              "2             T3    C4417068   1996-11-26           F        MUMBAI   \n",
              "3             T4    C5342380   1973-09-14           F        MUMBAI   \n",
              "4             T5    C9031234   1988-03-24           F   NAVI MUMBAI   \n",
              "\n",
              "   cust_account_balance transaction_date transaction_time  \\\n",
              "0              17819.05       2016-08-02         14:32:07   \n",
              "1               2270.69       2016-08-02         14:18:58   \n",
              "2              17874.44       2016-08-02         14:27:12   \n",
              "3             866503.21       2016-08-02         14:27:14   \n",
              "4               6714.43       2016-08-02         18:11:56   \n",
              "\n",
              "   transaction_amount_inr  \n",
              "0                    25.0  \n",
              "1                 27999.0  \n",
              "2                   459.0  \n",
              "3                  2060.0  \n",
              "4                  1762.5  "
            ],
            "text/html": [
              "\n",
              "  <div id=\"df-e55e3a39-f6e8-413c-83f1-6e77b9da0312\" class=\"colab-df-container\">\n",
              "    <div>\n",
              "<style scoped>\n",
              "    .dataframe tbody tr th:only-of-type {\n",
              "        vertical-align: middle;\n",
              "    }\n",
              "\n",
              "    .dataframe tbody tr th {\n",
              "        vertical-align: top;\n",
              "    }\n",
              "\n",
              "    .dataframe thead th {\n",
              "        text-align: right;\n",
              "    }\n",
              "</style>\n",
              "<table border=\"1\" class=\"dataframe\">\n",
              "  <thead>\n",
              "    <tr style=\"text-align: right;\">\n",
              "      <th></th>\n",
              "      <th>transaction_id</th>\n",
              "      <th>customer_id</th>\n",
              "      <th>customer_dob</th>\n",
              "      <th>cust_gender</th>\n",
              "      <th>cust_location</th>\n",
              "      <th>cust_account_balance</th>\n",
              "      <th>transaction_date</th>\n",
              "      <th>transaction_time</th>\n",
              "      <th>transaction_amount_inr</th>\n",
              "    </tr>\n",
              "  </thead>\n",
              "  <tbody>\n",
              "    <tr>\n",
              "      <th>0</th>\n",
              "      <td>T1</td>\n",
              "      <td>C5841053</td>\n",
              "      <td>1994-01-10</td>\n",
              "      <td>F</td>\n",
              "      <td>JAMSHEDPUR</td>\n",
              "      <td>17819.05</td>\n",
              "      <td>2016-08-02</td>\n",
              "      <td>14:32:07</td>\n",
              "      <td>25.0</td>\n",
              "    </tr>\n",
              "    <tr>\n",
              "      <th>1</th>\n",
              "      <td>T2</td>\n",
              "      <td>C2142763</td>\n",
              "      <td>1957-04-04</td>\n",
              "      <td>M</td>\n",
              "      <td>JHAJJAR</td>\n",
              "      <td>2270.69</td>\n",
              "      <td>2016-08-02</td>\n",
              "      <td>14:18:58</td>\n",
              "      <td>27999.0</td>\n",
              "    </tr>\n",
              "    <tr>\n",
              "      <th>2</th>\n",
              "      <td>T3</td>\n",
              "      <td>C4417068</td>\n",
              "      <td>1996-11-26</td>\n",
              "      <td>F</td>\n",
              "      <td>MUMBAI</td>\n",
              "      <td>17874.44</td>\n",
              "      <td>2016-08-02</td>\n",
              "      <td>14:27:12</td>\n",
              "      <td>459.0</td>\n",
              "    </tr>\n",
              "    <tr>\n",
              "      <th>3</th>\n",
              "      <td>T4</td>\n",
              "      <td>C5342380</td>\n",
              "      <td>1973-09-14</td>\n",
              "      <td>F</td>\n",
              "      <td>MUMBAI</td>\n",
              "      <td>866503.21</td>\n",
              "      <td>2016-08-02</td>\n",
              "      <td>14:27:14</td>\n",
              "      <td>2060.0</td>\n",
              "    </tr>\n",
              "    <tr>\n",
              "      <th>4</th>\n",
              "      <td>T5</td>\n",
              "      <td>C9031234</td>\n",
              "      <td>1988-03-24</td>\n",
              "      <td>F</td>\n",
              "      <td>NAVI MUMBAI</td>\n",
              "      <td>6714.43</td>\n",
              "      <td>2016-08-02</td>\n",
              "      <td>18:11:56</td>\n",
              "      <td>1762.5</td>\n",
              "    </tr>\n",
              "  </tbody>\n",
              "</table>\n",
              "</div>\n",
              "    <div class=\"colab-df-buttons\">\n",
              "\n",
              "  <div class=\"colab-df-container\">\n",
              "    <button class=\"colab-df-convert\" onclick=\"convertToInteractive('df-e55e3a39-f6e8-413c-83f1-6e77b9da0312')\"\n",
              "            title=\"Convert this dataframe to an interactive table.\"\n",
              "            style=\"display:none;\">\n",
              "\n",
              "  <svg xmlns=\"http://www.w3.org/2000/svg\" height=\"24px\" viewBox=\"0 -960 960 960\">\n",
              "    <path d=\"M120-120v-720h720v720H120Zm60-500h600v-160H180v160Zm220 220h160v-160H400v160Zm0 220h160v-160H400v160ZM180-400h160v-160H180v160Zm440 0h160v-160H620v160ZM180-180h160v-160H180v160Zm440 0h160v-160H620v160Z\"/>\n",
              "  </svg>\n",
              "    </button>\n",
              "\n",
              "  <style>\n",
              "    .colab-df-container {\n",
              "      display:flex;\n",
              "      gap: 12px;\n",
              "    }\n",
              "\n",
              "    .colab-df-convert {\n",
              "      background-color: #E8F0FE;\n",
              "      border: none;\n",
              "      border-radius: 50%;\n",
              "      cursor: pointer;\n",
              "      display: none;\n",
              "      fill: #1967D2;\n",
              "      height: 32px;\n",
              "      padding: 0 0 0 0;\n",
              "      width: 32px;\n",
              "    }\n",
              "\n",
              "    .colab-df-convert:hover {\n",
              "      background-color: #E2EBFA;\n",
              "      box-shadow: 0px 1px 2px rgba(60, 64, 67, 0.3), 0px 1px 3px 1px rgba(60, 64, 67, 0.15);\n",
              "      fill: #174EA6;\n",
              "    }\n",
              "\n",
              "    .colab-df-buttons div {\n",
              "      margin-bottom: 4px;\n",
              "    }\n",
              "\n",
              "    [theme=dark] .colab-df-convert {\n",
              "      background-color: #3B4455;\n",
              "      fill: #D2E3FC;\n",
              "    }\n",
              "\n",
              "    [theme=dark] .colab-df-convert:hover {\n",
              "      background-color: #434B5C;\n",
              "      box-shadow: 0px 1px 3px 1px rgba(0, 0, 0, 0.15);\n",
              "      filter: drop-shadow(0px 1px 2px rgba(0, 0, 0, 0.3));\n",
              "      fill: #FFFFFF;\n",
              "    }\n",
              "  </style>\n",
              "\n",
              "    <script>\n",
              "      const buttonEl =\n",
              "        document.querySelector('#df-e55e3a39-f6e8-413c-83f1-6e77b9da0312 button.colab-df-convert');\n",
              "      buttonEl.style.display =\n",
              "        google.colab.kernel.accessAllowed ? 'block' : 'none';\n",
              "\n",
              "      async function convertToInteractive(key) {\n",
              "        const element = document.querySelector('#df-e55e3a39-f6e8-413c-83f1-6e77b9da0312');\n",
              "        const dataTable =\n",
              "          await google.colab.kernel.invokeFunction('convertToInteractive',\n",
              "                                                    [key], {});\n",
              "        if (!dataTable) return;\n",
              "\n",
              "        const docLinkHtml = 'Like what you see? Visit the ' +\n",
              "          '<a target=\"_blank\" href=https://colab.research.google.com/notebooks/data_table.ipynb>data table notebook</a>'\n",
              "          + ' to learn more about interactive tables.';\n",
              "        element.innerHTML = '';\n",
              "        dataTable['output_type'] = 'display_data';\n",
              "        await google.colab.output.renderOutput(dataTable, element);\n",
              "        const docLink = document.createElement('div');\n",
              "        docLink.innerHTML = docLinkHtml;\n",
              "        element.appendChild(docLink);\n",
              "      }\n",
              "    </script>\n",
              "  </div>\n",
              "\n",
              "\n",
              "    <div id=\"df-85ee641e-2850-4218-9772-4081e1cca910\">\n",
              "      <button class=\"colab-df-quickchart\" onclick=\"quickchart('df-85ee641e-2850-4218-9772-4081e1cca910')\"\n",
              "                title=\"Suggest charts\"\n",
              "                style=\"display:none;\">\n",
              "\n",
              "<svg xmlns=\"http://www.w3.org/2000/svg\" height=\"24px\"viewBox=\"0 0 24 24\"\n",
              "     width=\"24px\">\n",
              "    <g>\n",
              "        <path d=\"M19 3H5c-1.1 0-2 .9-2 2v14c0 1.1.9 2 2 2h14c1.1 0 2-.9 2-2V5c0-1.1-.9-2-2-2zM9 17H7v-7h2v7zm4 0h-2V7h2v10zm4 0h-2v-4h2v4z\"/>\n",
              "    </g>\n",
              "</svg>\n",
              "      </button>\n",
              "\n",
              "<style>\n",
              "  .colab-df-quickchart {\n",
              "      --bg-color: #E8F0FE;\n",
              "      --fill-color: #1967D2;\n",
              "      --hover-bg-color: #E2EBFA;\n",
              "      --hover-fill-color: #174EA6;\n",
              "      --disabled-fill-color: #AAA;\n",
              "      --disabled-bg-color: #DDD;\n",
              "  }\n",
              "\n",
              "  [theme=dark] .colab-df-quickchart {\n",
              "      --bg-color: #3B4455;\n",
              "      --fill-color: #D2E3FC;\n",
              "      --hover-bg-color: #434B5C;\n",
              "      --hover-fill-color: #FFFFFF;\n",
              "      --disabled-bg-color: #3B4455;\n",
              "      --disabled-fill-color: #666;\n",
              "  }\n",
              "\n",
              "  .colab-df-quickchart {\n",
              "    background-color: var(--bg-color);\n",
              "    border: none;\n",
              "    border-radius: 50%;\n",
              "    cursor: pointer;\n",
              "    display: none;\n",
              "    fill: var(--fill-color);\n",
              "    height: 32px;\n",
              "    padding: 0;\n",
              "    width: 32px;\n",
              "  }\n",
              "\n",
              "  .colab-df-quickchart:hover {\n",
              "    background-color: var(--hover-bg-color);\n",
              "    box-shadow: 0 1px 2px rgba(60, 64, 67, 0.3), 0 1px 3px 1px rgba(60, 64, 67, 0.15);\n",
              "    fill: var(--button-hover-fill-color);\n",
              "  }\n",
              "\n",
              "  .colab-df-quickchart-complete:disabled,\n",
              "  .colab-df-quickchart-complete:disabled:hover {\n",
              "    background-color: var(--disabled-bg-color);\n",
              "    fill: var(--disabled-fill-color);\n",
              "    box-shadow: none;\n",
              "  }\n",
              "\n",
              "  .colab-df-spinner {\n",
              "    border: 2px solid var(--fill-color);\n",
              "    border-color: transparent;\n",
              "    border-bottom-color: var(--fill-color);\n",
              "    animation:\n",
              "      spin 1s steps(1) infinite;\n",
              "  }\n",
              "\n",
              "  @keyframes spin {\n",
              "    0% {\n",
              "      border-color: transparent;\n",
              "      border-bottom-color: var(--fill-color);\n",
              "      border-left-color: var(--fill-color);\n",
              "    }\n",
              "    20% {\n",
              "      border-color: transparent;\n",
              "      border-left-color: var(--fill-color);\n",
              "      border-top-color: var(--fill-color);\n",
              "    }\n",
              "    30% {\n",
              "      border-color: transparent;\n",
              "      border-left-color: var(--fill-color);\n",
              "      border-top-color: var(--fill-color);\n",
              "      border-right-color: var(--fill-color);\n",
              "    }\n",
              "    40% {\n",
              "      border-color: transparent;\n",
              "      border-right-color: var(--fill-color);\n",
              "      border-top-color: var(--fill-color);\n",
              "    }\n",
              "    60% {\n",
              "      border-color: transparent;\n",
              "      border-right-color: var(--fill-color);\n",
              "    }\n",
              "    80% {\n",
              "      border-color: transparent;\n",
              "      border-right-color: var(--fill-color);\n",
              "      border-bottom-color: var(--fill-color);\n",
              "    }\n",
              "    90% {\n",
              "      border-color: transparent;\n",
              "      border-bottom-color: var(--fill-color);\n",
              "    }\n",
              "  }\n",
              "</style>\n",
              "\n",
              "      <script>\n",
              "        async function quickchart(key) {\n",
              "          const quickchartButtonEl =\n",
              "            document.querySelector('#' + key + ' button');\n",
              "          quickchartButtonEl.disabled = true;  // To prevent multiple clicks.\n",
              "          quickchartButtonEl.classList.add('colab-df-spinner');\n",
              "          try {\n",
              "            const charts = await google.colab.kernel.invokeFunction(\n",
              "                'suggestCharts', [key], {});\n",
              "          } catch (error) {\n",
              "            console.error('Error during call to suggestCharts:', error);\n",
              "          }\n",
              "          quickchartButtonEl.classList.remove('colab-df-spinner');\n",
              "          quickchartButtonEl.classList.add('colab-df-quickchart-complete');\n",
              "        }\n",
              "        (() => {\n",
              "          let quickchartButtonEl =\n",
              "            document.querySelector('#df-85ee641e-2850-4218-9772-4081e1cca910 button');\n",
              "          quickchartButtonEl.style.display =\n",
              "            google.colab.kernel.accessAllowed ? 'block' : 'none';\n",
              "        })();\n",
              "      </script>\n",
              "    </div>\n",
              "    </div>\n",
              "  </div>\n"
            ],
            "application/vnd.google.colaboratory.intrinsic+json": {
              "type": "dataframe",
              "summary": "{\n  \"name\": \"display(df\",\n  \"rows\": 5,\n  \"fields\": [\n    {\n      \"column\": \"transaction_id\",\n      \"properties\": {\n        \"dtype\": \"string\",\n        \"num_unique_values\": 5,\n        \"samples\": [\n          \"T2\",\n          \"T5\",\n          \"T3\"\n        ],\n        \"semantic_type\": \"\",\n        \"description\": \"\"\n      }\n    },\n    {\n      \"column\": \"customer_id\",\n      \"properties\": {\n        \"dtype\": \"string\",\n        \"num_unique_values\": 5,\n        \"samples\": [\n          \"C2142763\",\n          \"C9031234\",\n          \"C4417068\"\n        ],\n        \"semantic_type\": \"\",\n        \"description\": \"\"\n      }\n    },\n    {\n      \"column\": \"customer_dob\",\n      \"properties\": {\n        \"dtype\": \"date\",\n        \"min\": \"1957-04-04 00:00:00\",\n        \"max\": \"1996-11-26 00:00:00\",\n        \"num_unique_values\": 5,\n        \"samples\": [\n          \"1957-04-04 00:00:00\",\n          \"1988-03-24 00:00:00\",\n          \"1996-11-26 00:00:00\"\n        ],\n        \"semantic_type\": \"\",\n        \"description\": \"\"\n      }\n    },\n    {\n      \"column\": \"cust_gender\",\n      \"properties\": {\n        \"dtype\": \"category\",\n        \"num_unique_values\": 2,\n        \"samples\": [\n          \"M\",\n          \"F\"\n        ],\n        \"semantic_type\": \"\",\n        \"description\": \"\"\n      }\n    },\n    {\n      \"column\": \"cust_location\",\n      \"properties\": {\n        \"dtype\": \"string\",\n        \"num_unique_values\": 4,\n        \"samples\": [\n          \"JHAJJAR\",\n          \"NAVI MUMBAI\"\n        ],\n        \"semantic_type\": \"\",\n        \"description\": \"\"\n      }\n    },\n    {\n      \"column\": \"cust_account_balance\",\n      \"properties\": {\n        \"dtype\": \"number\",\n        \"std\": 382578.29423273564,\n        \"min\": 2270.69,\n        \"max\": 866503.21,\n        \"num_unique_values\": 5,\n        \"samples\": [\n          2270.69,\n          6714.43\n        ],\n        \"semantic_type\": \"\",\n        \"description\": \"\"\n      }\n    },\n    {\n      \"column\": \"transaction_date\",\n      \"properties\": {\n        \"dtype\": \"date\",\n        \"min\": \"2016-08-02 00:00:00\",\n        \"max\": \"2016-08-02 00:00:00\",\n        \"num_unique_values\": 1,\n        \"samples\": [\n          \"2016-08-02 00:00:00\"\n        ],\n        \"semantic_type\": \"\",\n        \"description\": \"\"\n      }\n    },\n    {\n      \"column\": \"transaction_time\",\n      \"properties\": {\n        \"dtype\": \"string\",\n        \"num_unique_values\": 5,\n        \"samples\": [\n          \"14:18:58\"\n        ],\n        \"semantic_type\": \"\",\n        \"description\": \"\"\n      }\n    },\n    {\n      \"column\": \"transaction_amount_inr\",\n      \"properties\": {\n        \"dtype\": \"number\",\n        \"std\": 12070.379521788038,\n        \"min\": 25.0,\n        \"max\": 27999.0,\n        \"num_unique_values\": 5,\n        \"samples\": [\n          27999.0\n        ],\n        \"semantic_type\": \"\",\n        \"description\": \"\"\n      }\n    }\n  ]\n}"
            }
          },
          "metadata": {}
        }
      ]
    },
    {
      "cell_type": "markdown",
      "source": [
        "**Вывод:**\n",
        "\n",
        "* Колонки `customer_dob`, `transaction_date` теперь содержат значения нужного типа данных. Но в `customer_dob` остались странные даты, некоторым пользователям во время транзакции было более 100 лет, но и дети меньше 10 лет также не могли делать переводы. Возможно придется очистить такие данные.\n",
        "* В колонке `customer_dob` из-за технической ошибки стало больше пропусков.\n",
        "* Колонка `transaction_time` теперь содержит значения формата 'datetime.time', показывающие время транзакции."
      ],
      "metadata": {
        "id": "MkqpVqCtBIZb"
      }
    },
    {
      "cell_type": "markdown",
      "source": [
        "# Поиск дублей и пропусков в данных"
      ],
      "metadata": {
        "id": "swsLyun_6E5q"
      }
    },
    {
      "cell_type": "markdown",
      "source": [
        "**Работа с пропусками**"
      ],
      "metadata": {
        "id": "AXSjPwy5VtKU"
      }
    },
    {
      "cell_type": "code",
      "source": [
        "# Посмотрим количество пропусков по колонкам\n",
        "df.isna().sum()"
      ],
      "metadata": {
        "colab": {
          "base_uri": "https://localhost:8080/",
          "height": 366
        },
        "id": "5oK53O3lBPIV",
        "outputId": "b8834ef6-a33f-4924-c9cf-bc085744d486"
      },
      "execution_count": null,
      "outputs": [
        {
          "output_type": "execute_result",
          "data": {
            "text/plain": [
              "transaction_id                0\n",
              "customer_id                   0\n",
              "customer_dob              60736\n",
              "cust_gender                1100\n",
              "cust_location               151\n",
              "cust_account_balance       2369\n",
              "transaction_date              0\n",
              "transaction_time              0\n",
              "transaction_amount_inr        0\n",
              "dtype: int64"
            ],
            "text/html": [
              "<div>\n",
              "<style scoped>\n",
              "    .dataframe tbody tr th:only-of-type {\n",
              "        vertical-align: middle;\n",
              "    }\n",
              "\n",
              "    .dataframe tbody tr th {\n",
              "        vertical-align: top;\n",
              "    }\n",
              "\n",
              "    .dataframe thead th {\n",
              "        text-align: right;\n",
              "    }\n",
              "</style>\n",
              "<table border=\"1\" class=\"dataframe\">\n",
              "  <thead>\n",
              "    <tr style=\"text-align: right;\">\n",
              "      <th></th>\n",
              "      <th>0</th>\n",
              "    </tr>\n",
              "  </thead>\n",
              "  <tbody>\n",
              "    <tr>\n",
              "      <th>transaction_id</th>\n",
              "      <td>0</td>\n",
              "    </tr>\n",
              "    <tr>\n",
              "      <th>customer_id</th>\n",
              "      <td>0</td>\n",
              "    </tr>\n",
              "    <tr>\n",
              "      <th>customer_dob</th>\n",
              "      <td>60736</td>\n",
              "    </tr>\n",
              "    <tr>\n",
              "      <th>cust_gender</th>\n",
              "      <td>1100</td>\n",
              "    </tr>\n",
              "    <tr>\n",
              "      <th>cust_location</th>\n",
              "      <td>151</td>\n",
              "    </tr>\n",
              "    <tr>\n",
              "      <th>cust_account_balance</th>\n",
              "      <td>2369</td>\n",
              "    </tr>\n",
              "    <tr>\n",
              "      <th>transaction_date</th>\n",
              "      <td>0</td>\n",
              "    </tr>\n",
              "    <tr>\n",
              "      <th>transaction_time</th>\n",
              "      <td>0</td>\n",
              "    </tr>\n",
              "    <tr>\n",
              "      <th>transaction_amount_inr</th>\n",
              "      <td>0</td>\n",
              "    </tr>\n",
              "  </tbody>\n",
              "</table>\n",
              "</div><br><label><b>dtype:</b> int64</label>"
            ]
          },
          "metadata": {},
          "execution_count": 17
        }
      ]
    },
    {
      "cell_type": "markdown",
      "source": [
        "Больше всего пропусков в колонке с датой рождения: 60,736. В остальных колонках незначительное количество пропусков, учитывая, что в данных более миллиона строк. Можно попытаться их востановить. Если у одного пользователя несколько транзакций и в одной есть пропуски, а в другой нет, то можно восстановить данные о дате рождения, гендерной принадлежности и месте проживания."
      ],
      "metadata": {
        "id": "pFLdbITvZrmV"
      }
    },
    {
      "cell_type": "code",
      "source": [
        "# Посмотрим первого повторяющегося пользователя\n",
        "id = df['customer_id'].value_counts()[:1].index\n",
        "df[df['customer_id'].isin(id)]"
      ],
      "metadata": {
        "colab": {
          "base_uri": "https://localhost:8080/",
          "height": 257
        },
        "id": "mhAbZGQzFjLR",
        "outputId": "aaf72f75-3d8e-4d4e-b335-6dea8ccbc805"
      },
      "execution_count": null,
      "outputs": [
        {
          "output_type": "execute_result",
          "data": {
            "text/plain": [
              "       transaction_id customer_id customer_dob cust_gender cust_location  \\\n",
              "19882          T19883    C3226689   1990-01-01           M         BASTI   \n",
              "35613          T35614    C3226689   1987-09-15           M         NOIDA   \n",
              "218661        T218662    C3226689   1984-11-04           F     NEW DELHI   \n",
              "756541        T756542    C3226689   1972-09-17           M       SHARJAH   \n",
              "836123        T836124    C3226689   1977-07-20           M         THANE   \n",
              "984048        T984049    C3226689   1985-05-21           M       GURGAON   \n",
              "\n",
              "        cust_account_balance transaction_date transaction_time  \\\n",
              "19882               11369.40       2016-09-26         13:13:42   \n",
              "35613               96820.46       2016-09-30         14:50:16   \n",
              "218661               1667.83       2016-08-08         19:02:33   \n",
              "756541             588826.94       2016-09-01         16:55:54   \n",
              "836123                369.36       2016-09-04         13:46:45   \n",
              "984048              12977.22       2016-09-15         19:59:29   \n",
              "\n",
              "        transaction_amount_inr  \n",
              "19882                   200.00  \n",
              "35613                   418.00  \n",
              "218661                 4700.00  \n",
              "756541                 6351.39  \n",
              "836123                 1749.00  \n",
              "984048                 1340.00  "
            ],
            "text/html": [
              "\n",
              "  <div id=\"df-f77c6715-ef11-4294-bc57-3640c9c96a30\" class=\"colab-df-container\">\n",
              "    <div>\n",
              "<style scoped>\n",
              "    .dataframe tbody tr th:only-of-type {\n",
              "        vertical-align: middle;\n",
              "    }\n",
              "\n",
              "    .dataframe tbody tr th {\n",
              "        vertical-align: top;\n",
              "    }\n",
              "\n",
              "    .dataframe thead th {\n",
              "        text-align: right;\n",
              "    }\n",
              "</style>\n",
              "<table border=\"1\" class=\"dataframe\">\n",
              "  <thead>\n",
              "    <tr style=\"text-align: right;\">\n",
              "      <th></th>\n",
              "      <th>transaction_id</th>\n",
              "      <th>customer_id</th>\n",
              "      <th>customer_dob</th>\n",
              "      <th>cust_gender</th>\n",
              "      <th>cust_location</th>\n",
              "      <th>cust_account_balance</th>\n",
              "      <th>transaction_date</th>\n",
              "      <th>transaction_time</th>\n",
              "      <th>transaction_amount_inr</th>\n",
              "    </tr>\n",
              "  </thead>\n",
              "  <tbody>\n",
              "    <tr>\n",
              "      <th>19882</th>\n",
              "      <td>T19883</td>\n",
              "      <td>C3226689</td>\n",
              "      <td>1990-01-01</td>\n",
              "      <td>M</td>\n",
              "      <td>BASTI</td>\n",
              "      <td>11369.40</td>\n",
              "      <td>2016-09-26</td>\n",
              "      <td>13:13:42</td>\n",
              "      <td>200.00</td>\n",
              "    </tr>\n",
              "    <tr>\n",
              "      <th>35613</th>\n",
              "      <td>T35614</td>\n",
              "      <td>C3226689</td>\n",
              "      <td>1987-09-15</td>\n",
              "      <td>M</td>\n",
              "      <td>NOIDA</td>\n",
              "      <td>96820.46</td>\n",
              "      <td>2016-09-30</td>\n",
              "      <td>14:50:16</td>\n",
              "      <td>418.00</td>\n",
              "    </tr>\n",
              "    <tr>\n",
              "      <th>218661</th>\n",
              "      <td>T218662</td>\n",
              "      <td>C3226689</td>\n",
              "      <td>1984-11-04</td>\n",
              "      <td>F</td>\n",
              "      <td>NEW DELHI</td>\n",
              "      <td>1667.83</td>\n",
              "      <td>2016-08-08</td>\n",
              "      <td>19:02:33</td>\n",
              "      <td>4700.00</td>\n",
              "    </tr>\n",
              "    <tr>\n",
              "      <th>756541</th>\n",
              "      <td>T756542</td>\n",
              "      <td>C3226689</td>\n",
              "      <td>1972-09-17</td>\n",
              "      <td>M</td>\n",
              "      <td>SHARJAH</td>\n",
              "      <td>588826.94</td>\n",
              "      <td>2016-09-01</td>\n",
              "      <td>16:55:54</td>\n",
              "      <td>6351.39</td>\n",
              "    </tr>\n",
              "    <tr>\n",
              "      <th>836123</th>\n",
              "      <td>T836124</td>\n",
              "      <td>C3226689</td>\n",
              "      <td>1977-07-20</td>\n",
              "      <td>M</td>\n",
              "      <td>THANE</td>\n",
              "      <td>369.36</td>\n",
              "      <td>2016-09-04</td>\n",
              "      <td>13:46:45</td>\n",
              "      <td>1749.00</td>\n",
              "    </tr>\n",
              "    <tr>\n",
              "      <th>984048</th>\n",
              "      <td>T984049</td>\n",
              "      <td>C3226689</td>\n",
              "      <td>1985-05-21</td>\n",
              "      <td>M</td>\n",
              "      <td>GURGAON</td>\n",
              "      <td>12977.22</td>\n",
              "      <td>2016-09-15</td>\n",
              "      <td>19:59:29</td>\n",
              "      <td>1340.00</td>\n",
              "    </tr>\n",
              "  </tbody>\n",
              "</table>\n",
              "</div>\n",
              "    <div class=\"colab-df-buttons\">\n",
              "\n",
              "  <div class=\"colab-df-container\">\n",
              "    <button class=\"colab-df-convert\" onclick=\"convertToInteractive('df-f77c6715-ef11-4294-bc57-3640c9c96a30')\"\n",
              "            title=\"Convert this dataframe to an interactive table.\"\n",
              "            style=\"display:none;\">\n",
              "\n",
              "  <svg xmlns=\"http://www.w3.org/2000/svg\" height=\"24px\" viewBox=\"0 -960 960 960\">\n",
              "    <path d=\"M120-120v-720h720v720H120Zm60-500h600v-160H180v160Zm220 220h160v-160H400v160Zm0 220h160v-160H400v160ZM180-400h160v-160H180v160Zm440 0h160v-160H620v160ZM180-180h160v-160H180v160Zm440 0h160v-160H620v160Z\"/>\n",
              "  </svg>\n",
              "    </button>\n",
              "\n",
              "  <style>\n",
              "    .colab-df-container {\n",
              "      display:flex;\n",
              "      gap: 12px;\n",
              "    }\n",
              "\n",
              "    .colab-df-convert {\n",
              "      background-color: #E8F0FE;\n",
              "      border: none;\n",
              "      border-radius: 50%;\n",
              "      cursor: pointer;\n",
              "      display: none;\n",
              "      fill: #1967D2;\n",
              "      height: 32px;\n",
              "      padding: 0 0 0 0;\n",
              "      width: 32px;\n",
              "    }\n",
              "\n",
              "    .colab-df-convert:hover {\n",
              "      background-color: #E2EBFA;\n",
              "      box-shadow: 0px 1px 2px rgba(60, 64, 67, 0.3), 0px 1px 3px 1px rgba(60, 64, 67, 0.15);\n",
              "      fill: #174EA6;\n",
              "    }\n",
              "\n",
              "    .colab-df-buttons div {\n",
              "      margin-bottom: 4px;\n",
              "    }\n",
              "\n",
              "    [theme=dark] .colab-df-convert {\n",
              "      background-color: #3B4455;\n",
              "      fill: #D2E3FC;\n",
              "    }\n",
              "\n",
              "    [theme=dark] .colab-df-convert:hover {\n",
              "      background-color: #434B5C;\n",
              "      box-shadow: 0px 1px 3px 1px rgba(0, 0, 0, 0.15);\n",
              "      filter: drop-shadow(0px 1px 2px rgba(0, 0, 0, 0.3));\n",
              "      fill: #FFFFFF;\n",
              "    }\n",
              "  </style>\n",
              "\n",
              "    <script>\n",
              "      const buttonEl =\n",
              "        document.querySelector('#df-f77c6715-ef11-4294-bc57-3640c9c96a30 button.colab-df-convert');\n",
              "      buttonEl.style.display =\n",
              "        google.colab.kernel.accessAllowed ? 'block' : 'none';\n",
              "\n",
              "      async function convertToInteractive(key) {\n",
              "        const element = document.querySelector('#df-f77c6715-ef11-4294-bc57-3640c9c96a30');\n",
              "        const dataTable =\n",
              "          await google.colab.kernel.invokeFunction('convertToInteractive',\n",
              "                                                    [key], {});\n",
              "        if (!dataTable) return;\n",
              "\n",
              "        const docLinkHtml = 'Like what you see? Visit the ' +\n",
              "          '<a target=\"_blank\" href=https://colab.research.google.com/notebooks/data_table.ipynb>data table notebook</a>'\n",
              "          + ' to learn more about interactive tables.';\n",
              "        element.innerHTML = '';\n",
              "        dataTable['output_type'] = 'display_data';\n",
              "        await google.colab.output.renderOutput(dataTable, element);\n",
              "        const docLink = document.createElement('div');\n",
              "        docLink.innerHTML = docLinkHtml;\n",
              "        element.appendChild(docLink);\n",
              "      }\n",
              "    </script>\n",
              "  </div>\n",
              "\n",
              "\n",
              "    <div id=\"df-c5e2d926-42cf-452b-bd24-67f44df1869d\">\n",
              "      <button class=\"colab-df-quickchart\" onclick=\"quickchart('df-c5e2d926-42cf-452b-bd24-67f44df1869d')\"\n",
              "                title=\"Suggest charts\"\n",
              "                style=\"display:none;\">\n",
              "\n",
              "<svg xmlns=\"http://www.w3.org/2000/svg\" height=\"24px\"viewBox=\"0 0 24 24\"\n",
              "     width=\"24px\">\n",
              "    <g>\n",
              "        <path d=\"M19 3H5c-1.1 0-2 .9-2 2v14c0 1.1.9 2 2 2h14c1.1 0 2-.9 2-2V5c0-1.1-.9-2-2-2zM9 17H7v-7h2v7zm4 0h-2V7h2v10zm4 0h-2v-4h2v4z\"/>\n",
              "    </g>\n",
              "</svg>\n",
              "      </button>\n",
              "\n",
              "<style>\n",
              "  .colab-df-quickchart {\n",
              "      --bg-color: #E8F0FE;\n",
              "      --fill-color: #1967D2;\n",
              "      --hover-bg-color: #E2EBFA;\n",
              "      --hover-fill-color: #174EA6;\n",
              "      --disabled-fill-color: #AAA;\n",
              "      --disabled-bg-color: #DDD;\n",
              "  }\n",
              "\n",
              "  [theme=dark] .colab-df-quickchart {\n",
              "      --bg-color: #3B4455;\n",
              "      --fill-color: #D2E3FC;\n",
              "      --hover-bg-color: #434B5C;\n",
              "      --hover-fill-color: #FFFFFF;\n",
              "      --disabled-bg-color: #3B4455;\n",
              "      --disabled-fill-color: #666;\n",
              "  }\n",
              "\n",
              "  .colab-df-quickchart {\n",
              "    background-color: var(--bg-color);\n",
              "    border: none;\n",
              "    border-radius: 50%;\n",
              "    cursor: pointer;\n",
              "    display: none;\n",
              "    fill: var(--fill-color);\n",
              "    height: 32px;\n",
              "    padding: 0;\n",
              "    width: 32px;\n",
              "  }\n",
              "\n",
              "  .colab-df-quickchart:hover {\n",
              "    background-color: var(--hover-bg-color);\n",
              "    box-shadow: 0 1px 2px rgba(60, 64, 67, 0.3), 0 1px 3px 1px rgba(60, 64, 67, 0.15);\n",
              "    fill: var(--button-hover-fill-color);\n",
              "  }\n",
              "\n",
              "  .colab-df-quickchart-complete:disabled,\n",
              "  .colab-df-quickchart-complete:disabled:hover {\n",
              "    background-color: var(--disabled-bg-color);\n",
              "    fill: var(--disabled-fill-color);\n",
              "    box-shadow: none;\n",
              "  }\n",
              "\n",
              "  .colab-df-spinner {\n",
              "    border: 2px solid var(--fill-color);\n",
              "    border-color: transparent;\n",
              "    border-bottom-color: var(--fill-color);\n",
              "    animation:\n",
              "      spin 1s steps(1) infinite;\n",
              "  }\n",
              "\n",
              "  @keyframes spin {\n",
              "    0% {\n",
              "      border-color: transparent;\n",
              "      border-bottom-color: var(--fill-color);\n",
              "      border-left-color: var(--fill-color);\n",
              "    }\n",
              "    20% {\n",
              "      border-color: transparent;\n",
              "      border-left-color: var(--fill-color);\n",
              "      border-top-color: var(--fill-color);\n",
              "    }\n",
              "    30% {\n",
              "      border-color: transparent;\n",
              "      border-left-color: var(--fill-color);\n",
              "      border-top-color: var(--fill-color);\n",
              "      border-right-color: var(--fill-color);\n",
              "    }\n",
              "    40% {\n",
              "      border-color: transparent;\n",
              "      border-right-color: var(--fill-color);\n",
              "      border-top-color: var(--fill-color);\n",
              "    }\n",
              "    60% {\n",
              "      border-color: transparent;\n",
              "      border-right-color: var(--fill-color);\n",
              "    }\n",
              "    80% {\n",
              "      border-color: transparent;\n",
              "      border-right-color: var(--fill-color);\n",
              "      border-bottom-color: var(--fill-color);\n",
              "    }\n",
              "    90% {\n",
              "      border-color: transparent;\n",
              "      border-bottom-color: var(--fill-color);\n",
              "    }\n",
              "  }\n",
              "</style>\n",
              "\n",
              "      <script>\n",
              "        async function quickchart(key) {\n",
              "          const quickchartButtonEl =\n",
              "            document.querySelector('#' + key + ' button');\n",
              "          quickchartButtonEl.disabled = true;  // To prevent multiple clicks.\n",
              "          quickchartButtonEl.classList.add('colab-df-spinner');\n",
              "          try {\n",
              "            const charts = await google.colab.kernel.invokeFunction(\n",
              "                'suggestCharts', [key], {});\n",
              "          } catch (error) {\n",
              "            console.error('Error during call to suggestCharts:', error);\n",
              "          }\n",
              "          quickchartButtonEl.classList.remove('colab-df-spinner');\n",
              "          quickchartButtonEl.classList.add('colab-df-quickchart-complete');\n",
              "        }\n",
              "        (() => {\n",
              "          let quickchartButtonEl =\n",
              "            document.querySelector('#df-c5e2d926-42cf-452b-bd24-67f44df1869d button');\n",
              "          quickchartButtonEl.style.display =\n",
              "            google.colab.kernel.accessAllowed ? 'block' : 'none';\n",
              "        })();\n",
              "      </script>\n",
              "    </div>\n",
              "    </div>\n",
              "  </div>\n"
            ],
            "application/vnd.google.colaboratory.intrinsic+json": {
              "type": "dataframe",
              "summary": "{\n  \"name\": \"df[df['customer_id']\",\n  \"rows\": 6,\n  \"fields\": [\n    {\n      \"column\": \"transaction_id\",\n      \"properties\": {\n        \"dtype\": \"string\",\n        \"num_unique_values\": 6,\n        \"samples\": [\n          \"T19883\",\n          \"T35614\",\n          \"T984049\"\n        ],\n        \"semantic_type\": \"\",\n        \"description\": \"\"\n      }\n    },\n    {\n      \"column\": \"customer_id\",\n      \"properties\": {\n        \"dtype\": \"category\",\n        \"num_unique_values\": 1,\n        \"samples\": [\n          \"C3226689\"\n        ],\n        \"semantic_type\": \"\",\n        \"description\": \"\"\n      }\n    },\n    {\n      \"column\": \"customer_dob\",\n      \"properties\": {\n        \"dtype\": \"date\",\n        \"min\": \"1972-09-17 00:00:00\",\n        \"max\": \"1990-01-01 00:00:00\",\n        \"num_unique_values\": 6,\n        \"samples\": [\n          \"1990-01-01 00:00:00\"\n        ],\n        \"semantic_type\": \"\",\n        \"description\": \"\"\n      }\n    },\n    {\n      \"column\": \"cust_gender\",\n      \"properties\": {\n        \"dtype\": \"category\",\n        \"num_unique_values\": 2,\n        \"samples\": [\n          \"F\"\n        ],\n        \"semantic_type\": \"\",\n        \"description\": \"\"\n      }\n    },\n    {\n      \"column\": \"cust_location\",\n      \"properties\": {\n        \"dtype\": \"string\",\n        \"num_unique_values\": 6,\n        \"samples\": [\n          \"BASTI\"\n        ],\n        \"semantic_type\": \"\",\n        \"description\": \"\"\n      }\n    },\n    {\n      \"column\": \"cust_account_balance\",\n      \"properties\": {\n        \"dtype\": \"number\",\n        \"std\": 233192.57377585507,\n        \"min\": 369.36,\n        \"max\": 588826.94,\n        \"num_unique_values\": 6,\n        \"samples\": [\n          11369.4\n        ],\n        \"semantic_type\": \"\",\n        \"description\": \"\"\n      }\n    },\n    {\n      \"column\": \"transaction_date\",\n      \"properties\": {\n        \"dtype\": \"date\",\n        \"min\": \"2016-08-08 00:00:00\",\n        \"max\": \"2016-09-30 00:00:00\",\n        \"num_unique_values\": 6,\n        \"samples\": [\n          \"2016-09-26 00:00:00\"\n        ],\n        \"semantic_type\": \"\",\n        \"description\": \"\"\n      }\n    },\n    {\n      \"column\": \"transaction_time\",\n      \"properties\": {\n        \"dtype\": \"string\",\n        \"num_unique_values\": 6,\n        \"samples\": [\n          \"13:13:42\"\n        ],\n        \"semantic_type\": \"\",\n        \"description\": \"\"\n      }\n    },\n    {\n      \"column\": \"transaction_amount_inr\",\n      \"properties\": {\n        \"dtype\": \"number\",\n        \"std\": 2497.9111553489383,\n        \"min\": 200.0,\n        \"max\": 6351.39,\n        \"num_unique_values\": 6,\n        \"samples\": [\n          200.0\n        ],\n        \"semantic_type\": \"\",\n        \"description\": \"\"\n      }\n    }\n  ]\n}"
            }
          },
          "metadata": {},
          "execution_count": 18
        }
      ]
    },
    {
      "cell_type": "markdown",
      "source": [
        "Похоже, что этот набор данных содержит ошибки и не получиться восстановить пол и место проживания по идентификатору клиента, так как у одного пользователя разные даты рождения, пол и место проживания. Возможно, что это все разные пользователи, но по какой-то ошибке записались под одним идентификатором. Можно объединить идентификатор с городом, полом и датой рождения, но не факт, что такой способ вернет уникальность клиентам, ведь в одном городе могут встречаться разные люди с одинаковой датой рождения. Если не получается восстановить данные, то удалим все пропуски и оставим по одной записи для каждого клиента. Пусть записей будет меньше, но проведем анализ на реальных и чистых данных."
      ],
      "metadata": {
        "id": "fjeee7lFr8oy"
      }
    },
    {
      "cell_type": "code",
      "source": [
        "# Посмотрим как распределяются идентификаторы в зависимости от количества повторений\n",
        "df['customer_id'].value_counts().value_counts()"
      ],
      "metadata": {
        "colab": {
          "base_uri": "https://localhost:8080/",
          "height": 303
        },
        "id": "s1Xs2FcRJPya",
        "outputId": "49b44320-f9f0-4a6e-a70e-b0177fb76262"
      },
      "execution_count": null,
      "outputs": [
        {
          "output_type": "execute_result",
          "data": {
            "text/plain": [
              "count\n",
              "1    740653\n",
              "2    124960\n",
              "3     16789\n",
              "4      1702\n",
              "5       147\n",
              "6        14\n",
              "Name: count, dtype: int64"
            ],
            "text/html": [
              "<div>\n",
              "<style scoped>\n",
              "    .dataframe tbody tr th:only-of-type {\n",
              "        vertical-align: middle;\n",
              "    }\n",
              "\n",
              "    .dataframe tbody tr th {\n",
              "        vertical-align: top;\n",
              "    }\n",
              "\n",
              "    .dataframe thead th {\n",
              "        text-align: right;\n",
              "    }\n",
              "</style>\n",
              "<table border=\"1\" class=\"dataframe\">\n",
              "  <thead>\n",
              "    <tr style=\"text-align: right;\">\n",
              "      <th></th>\n",
              "      <th>count</th>\n",
              "    </tr>\n",
              "    <tr>\n",
              "      <th>count</th>\n",
              "      <th></th>\n",
              "    </tr>\n",
              "  </thead>\n",
              "  <tbody>\n",
              "    <tr>\n",
              "      <th>1</th>\n",
              "      <td>740653</td>\n",
              "    </tr>\n",
              "    <tr>\n",
              "      <th>2</th>\n",
              "      <td>124960</td>\n",
              "    </tr>\n",
              "    <tr>\n",
              "      <th>3</th>\n",
              "      <td>16789</td>\n",
              "    </tr>\n",
              "    <tr>\n",
              "      <th>4</th>\n",
              "      <td>1702</td>\n",
              "    </tr>\n",
              "    <tr>\n",
              "      <th>5</th>\n",
              "      <td>147</td>\n",
              "    </tr>\n",
              "    <tr>\n",
              "      <th>6</th>\n",
              "      <td>14</td>\n",
              "    </tr>\n",
              "  </tbody>\n",
              "</table>\n",
              "</div><br><label><b>dtype:</b> int64</label>"
            ]
          },
          "metadata": {},
          "execution_count": 19
        }
      ]
    },
    {
      "cell_type": "code",
      "source": [
        "# Посмотрим количество уникальных пользователей\n",
        "df['customer_id'].nunique()"
      ],
      "metadata": {
        "colab": {
          "base_uri": "https://localhost:8080/"
        },
        "id": "P6sTfj5-VzdV",
        "outputId": "62356e3f-48c0-4fa0-c5fa-1ea1d0edbaca"
      },
      "execution_count": null,
      "outputs": [
        {
          "output_type": "execute_result",
          "data": {
            "text/plain": [
              "884265"
            ]
          },
          "metadata": {},
          "execution_count": 20
        }
      ]
    },
    {
      "cell_type": "markdown",
      "source": [
        "Подавляющее большинство пользователей совершали только одну транзакцию. Количество уникальных клиентов говорит нам, что после очистки данных останется достаточно информации для проведения исследовательского анализа."
      ],
      "metadata": {
        "id": "2JyRNhPCWOMT"
      }
    },
    {
      "cell_type": "code",
      "source": [
        "# Удаляем пропуски\n",
        "df_clean = df.dropna()\n",
        "\n",
        "# Оставляем для каждого клиента информацию о последней транзакции\n",
        "latest_idx = df_clean.groupby('customer_id')['transaction_date'].idxmax()\n",
        "df_clean = df_clean.loc[latest_idx]"
      ],
      "metadata": {
        "id": "PoN8cjh5446_"
      },
      "execution_count": null,
      "outputs": []
    },
    {
      "cell_type": "code",
      "source": [
        "# Проверим количество оставшихся строк\n",
        "df_clean.shape"
      ],
      "metadata": {
        "colab": {
          "base_uri": "https://localhost:8080/"
        },
        "id": "c0jvPVEFASBf",
        "outputId": "8e365291-c5c7-4f93-d3e4-3ab51c5d830b"
      },
      "execution_count": null,
      "outputs": [
        {
          "output_type": "execute_result",
          "data": {
            "text/plain": [
              "(839081, 9)"
            ]
          },
          "metadata": {},
          "execution_count": 22
        }
      ]
    },
    {
      "cell_type": "markdown",
      "source": [
        "**Работа с дубликатами**"
      ],
      "metadata": {
        "id": "k9aRabi4adRE"
      }
    },
    {
      "cell_type": "code",
      "source": [
        "# Проверим дубликаты в столбцах с идентификаторами\n",
        "print('Количество дубликатов в столбце \"transaction_id\":', df_clean['transaction_id'].duplicated().sum())\n",
        "print('Количество дубликатов в столбце \"customer_id\":', df_clean['customer_id'].duplicated().sum())"
      ],
      "metadata": {
        "colab": {
          "base_uri": "https://localhost:8080/"
        },
        "id": "hVJ4j5q7f6uh",
        "outputId": "aa908a7d-7f70-479d-d31f-52a488bea2bb"
      },
      "execution_count": null,
      "outputs": [
        {
          "output_type": "stream",
          "name": "stdout",
          "text": [
            "Количество дубликатов в столбце \"transaction_id\": 0\n",
            "Количество дубликатов в столбце \"customer_id\": 0\n"
          ]
        }
      ]
    },
    {
      "cell_type": "markdown",
      "source": [
        "Так как данные изначально были проблемные и с ошибками, то проверим еще совпадения строк без идентификаторов. Из-за ошибок одна и таже строка могла записываться под разными идентификаторами."
      ],
      "metadata": {
        "id": "3W8Xj8rIjJG0"
      }
    },
    {
      "cell_type": "code",
      "source": [
        " # Проверим дубликаты по всем столбцам не включая идентификаторы\n",
        " df_clean[df_clean.columns.difference(['transaction_id', 'customer_id'])].duplicated().sum()"
      ],
      "metadata": {
        "colab": {
          "base_uri": "https://localhost:8080/"
        },
        "id": "me1hAmZQsgm1",
        "outputId": "d96e4994-3139-4de8-cbcb-c0fc7ec1a103"
      },
      "execution_count": null,
      "outputs": [
        {
          "output_type": "execute_result",
          "data": {
            "text/plain": [
              "np.int64(22)"
            ]
          },
          "metadata": {},
          "execution_count": 24
        }
      ]
    },
    {
      "cell_type": "markdown",
      "source": [
        "Такие события маловероятны, чтобы совпало время перевода, вплоть до секунд, сумма перевода и количество средств на счете. Но и самих событий всего 22."
      ],
      "metadata": {
        "id": "a6Fmg37akmkZ"
      }
    },
    {
      "cell_type": "code",
      "source": [
        "# Удаляем строки с идентичными транзакциями\n",
        "columns_without_identifiers = ['customer_dob', 'cust_gender', 'cust_location',\n",
        "                               'cust_account_balance', 'transaction_date',\n",
        "                               'transaction_time', 'transaction_amount_inr'\n",
        "                              ]\n",
        "df_clean = df_clean.drop_duplicates(subset=columns_without_identifiers)"
      ],
      "metadata": {
        "id": "5BJqaSsHmmuC"
      },
      "execution_count": null,
      "outputs": []
    },
    {
      "cell_type": "markdown",
      "source": [
        "**Работа с выбросами и ошибками в данных**"
      ],
      "metadata": {
        "id": "MNqH8gfk-dYM"
      }
    },
    {
      "cell_type": "code",
      "source": [
        "# Посмотрим статистику в колонках с балансом и суммой перевода\n",
        "df_clean[['cust_account_balance', 'transaction_amount_inr']].describe()"
      ],
      "metadata": {
        "colab": {
          "base_uri": "https://localhost:8080/",
          "height": 300
        },
        "id": "oQ2VSs1h_ASi",
        "outputId": "61b044db-3ee4-42c9-adc0-683e4b7b9812"
      },
      "execution_count": null,
      "outputs": [
        {
          "output_type": "execute_result",
          "data": {
            "text/plain": [
              "       cust_account_balance  transaction_amount_inr\n",
              "count          8.390590e+05            8.390590e+05\n",
              "mean           1.064556e+05            1.452822e+03\n",
              "std            8.367226e+05            6.247307e+03\n",
              "min            0.000000e+00            0.000000e+00\n",
              "25%            4.615250e+03            1.509850e+02\n",
              "50%            1.603008e+04            4.300000e+02\n",
              "75%            5.381801e+04            1.125000e+03\n",
              "max            1.150355e+08            1.560035e+06"
            ],
            "text/html": [
              "\n",
              "  <div id=\"df-60ef130a-b347-448b-8767-0e01f3b02432\" class=\"colab-df-container\">\n",
              "    <div>\n",
              "<style scoped>\n",
              "    .dataframe tbody tr th:only-of-type {\n",
              "        vertical-align: middle;\n",
              "    }\n",
              "\n",
              "    .dataframe tbody tr th {\n",
              "        vertical-align: top;\n",
              "    }\n",
              "\n",
              "    .dataframe thead th {\n",
              "        text-align: right;\n",
              "    }\n",
              "</style>\n",
              "<table border=\"1\" class=\"dataframe\">\n",
              "  <thead>\n",
              "    <tr style=\"text-align: right;\">\n",
              "      <th></th>\n",
              "      <th>cust_account_balance</th>\n",
              "      <th>transaction_amount_inr</th>\n",
              "    </tr>\n",
              "  </thead>\n",
              "  <tbody>\n",
              "    <tr>\n",
              "      <th>count</th>\n",
              "      <td>8.390590e+05</td>\n",
              "      <td>8.390590e+05</td>\n",
              "    </tr>\n",
              "    <tr>\n",
              "      <th>mean</th>\n",
              "      <td>1.064556e+05</td>\n",
              "      <td>1.452822e+03</td>\n",
              "    </tr>\n",
              "    <tr>\n",
              "      <th>std</th>\n",
              "      <td>8.367226e+05</td>\n",
              "      <td>6.247307e+03</td>\n",
              "    </tr>\n",
              "    <tr>\n",
              "      <th>min</th>\n",
              "      <td>0.000000e+00</td>\n",
              "      <td>0.000000e+00</td>\n",
              "    </tr>\n",
              "    <tr>\n",
              "      <th>25%</th>\n",
              "      <td>4.615250e+03</td>\n",
              "      <td>1.509850e+02</td>\n",
              "    </tr>\n",
              "    <tr>\n",
              "      <th>50%</th>\n",
              "      <td>1.603008e+04</td>\n",
              "      <td>4.300000e+02</td>\n",
              "    </tr>\n",
              "    <tr>\n",
              "      <th>75%</th>\n",
              "      <td>5.381801e+04</td>\n",
              "      <td>1.125000e+03</td>\n",
              "    </tr>\n",
              "    <tr>\n",
              "      <th>max</th>\n",
              "      <td>1.150355e+08</td>\n",
              "      <td>1.560035e+06</td>\n",
              "    </tr>\n",
              "  </tbody>\n",
              "</table>\n",
              "</div>\n",
              "    <div class=\"colab-df-buttons\">\n",
              "\n",
              "  <div class=\"colab-df-container\">\n",
              "    <button class=\"colab-df-convert\" onclick=\"convertToInteractive('df-60ef130a-b347-448b-8767-0e01f3b02432')\"\n",
              "            title=\"Convert this dataframe to an interactive table.\"\n",
              "            style=\"display:none;\">\n",
              "\n",
              "  <svg xmlns=\"http://www.w3.org/2000/svg\" height=\"24px\" viewBox=\"0 -960 960 960\">\n",
              "    <path d=\"M120-120v-720h720v720H120Zm60-500h600v-160H180v160Zm220 220h160v-160H400v160Zm0 220h160v-160H400v160ZM180-400h160v-160H180v160Zm440 0h160v-160H620v160ZM180-180h160v-160H180v160Zm440 0h160v-160H620v160Z\"/>\n",
              "  </svg>\n",
              "    </button>\n",
              "\n",
              "  <style>\n",
              "    .colab-df-container {\n",
              "      display:flex;\n",
              "      gap: 12px;\n",
              "    }\n",
              "\n",
              "    .colab-df-convert {\n",
              "      background-color: #E8F0FE;\n",
              "      border: none;\n",
              "      border-radius: 50%;\n",
              "      cursor: pointer;\n",
              "      display: none;\n",
              "      fill: #1967D2;\n",
              "      height: 32px;\n",
              "      padding: 0 0 0 0;\n",
              "      width: 32px;\n",
              "    }\n",
              "\n",
              "    .colab-df-convert:hover {\n",
              "      background-color: #E2EBFA;\n",
              "      box-shadow: 0px 1px 2px rgba(60, 64, 67, 0.3), 0px 1px 3px 1px rgba(60, 64, 67, 0.15);\n",
              "      fill: #174EA6;\n",
              "    }\n",
              "\n",
              "    .colab-df-buttons div {\n",
              "      margin-bottom: 4px;\n",
              "    }\n",
              "\n",
              "    [theme=dark] .colab-df-convert {\n",
              "      background-color: #3B4455;\n",
              "      fill: #D2E3FC;\n",
              "    }\n",
              "\n",
              "    [theme=dark] .colab-df-convert:hover {\n",
              "      background-color: #434B5C;\n",
              "      box-shadow: 0px 1px 3px 1px rgba(0, 0, 0, 0.15);\n",
              "      filter: drop-shadow(0px 1px 2px rgba(0, 0, 0, 0.3));\n",
              "      fill: #FFFFFF;\n",
              "    }\n",
              "  </style>\n",
              "\n",
              "    <script>\n",
              "      const buttonEl =\n",
              "        document.querySelector('#df-60ef130a-b347-448b-8767-0e01f3b02432 button.colab-df-convert');\n",
              "      buttonEl.style.display =\n",
              "        google.colab.kernel.accessAllowed ? 'block' : 'none';\n",
              "\n",
              "      async function convertToInteractive(key) {\n",
              "        const element = document.querySelector('#df-60ef130a-b347-448b-8767-0e01f3b02432');\n",
              "        const dataTable =\n",
              "          await google.colab.kernel.invokeFunction('convertToInteractive',\n",
              "                                                    [key], {});\n",
              "        if (!dataTable) return;\n",
              "\n",
              "        const docLinkHtml = 'Like what you see? Visit the ' +\n",
              "          '<a target=\"_blank\" href=https://colab.research.google.com/notebooks/data_table.ipynb>data table notebook</a>'\n",
              "          + ' to learn more about interactive tables.';\n",
              "        element.innerHTML = '';\n",
              "        dataTable['output_type'] = 'display_data';\n",
              "        await google.colab.output.renderOutput(dataTable, element);\n",
              "        const docLink = document.createElement('div');\n",
              "        docLink.innerHTML = docLinkHtml;\n",
              "        element.appendChild(docLink);\n",
              "      }\n",
              "    </script>\n",
              "  </div>\n",
              "\n",
              "\n",
              "    <div id=\"df-08776d39-765c-4b2a-bd3a-df8bcd376cc4\">\n",
              "      <button class=\"colab-df-quickchart\" onclick=\"quickchart('df-08776d39-765c-4b2a-bd3a-df8bcd376cc4')\"\n",
              "                title=\"Suggest charts\"\n",
              "                style=\"display:none;\">\n",
              "\n",
              "<svg xmlns=\"http://www.w3.org/2000/svg\" height=\"24px\"viewBox=\"0 0 24 24\"\n",
              "     width=\"24px\">\n",
              "    <g>\n",
              "        <path d=\"M19 3H5c-1.1 0-2 .9-2 2v14c0 1.1.9 2 2 2h14c1.1 0 2-.9 2-2V5c0-1.1-.9-2-2-2zM9 17H7v-7h2v7zm4 0h-2V7h2v10zm4 0h-2v-4h2v4z\"/>\n",
              "    </g>\n",
              "</svg>\n",
              "      </button>\n",
              "\n",
              "<style>\n",
              "  .colab-df-quickchart {\n",
              "      --bg-color: #E8F0FE;\n",
              "      --fill-color: #1967D2;\n",
              "      --hover-bg-color: #E2EBFA;\n",
              "      --hover-fill-color: #174EA6;\n",
              "      --disabled-fill-color: #AAA;\n",
              "      --disabled-bg-color: #DDD;\n",
              "  }\n",
              "\n",
              "  [theme=dark] .colab-df-quickchart {\n",
              "      --bg-color: #3B4455;\n",
              "      --fill-color: #D2E3FC;\n",
              "      --hover-bg-color: #434B5C;\n",
              "      --hover-fill-color: #FFFFFF;\n",
              "      --disabled-bg-color: #3B4455;\n",
              "      --disabled-fill-color: #666;\n",
              "  }\n",
              "\n",
              "  .colab-df-quickchart {\n",
              "    background-color: var(--bg-color);\n",
              "    border: none;\n",
              "    border-radius: 50%;\n",
              "    cursor: pointer;\n",
              "    display: none;\n",
              "    fill: var(--fill-color);\n",
              "    height: 32px;\n",
              "    padding: 0;\n",
              "    width: 32px;\n",
              "  }\n",
              "\n",
              "  .colab-df-quickchart:hover {\n",
              "    background-color: var(--hover-bg-color);\n",
              "    box-shadow: 0 1px 2px rgba(60, 64, 67, 0.3), 0 1px 3px 1px rgba(60, 64, 67, 0.15);\n",
              "    fill: var(--button-hover-fill-color);\n",
              "  }\n",
              "\n",
              "  .colab-df-quickchart-complete:disabled,\n",
              "  .colab-df-quickchart-complete:disabled:hover {\n",
              "    background-color: var(--disabled-bg-color);\n",
              "    fill: var(--disabled-fill-color);\n",
              "    box-shadow: none;\n",
              "  }\n",
              "\n",
              "  .colab-df-spinner {\n",
              "    border: 2px solid var(--fill-color);\n",
              "    border-color: transparent;\n",
              "    border-bottom-color: var(--fill-color);\n",
              "    animation:\n",
              "      spin 1s steps(1) infinite;\n",
              "  }\n",
              "\n",
              "  @keyframes spin {\n",
              "    0% {\n",
              "      border-color: transparent;\n",
              "      border-bottom-color: var(--fill-color);\n",
              "      border-left-color: var(--fill-color);\n",
              "    }\n",
              "    20% {\n",
              "      border-color: transparent;\n",
              "      border-left-color: var(--fill-color);\n",
              "      border-top-color: var(--fill-color);\n",
              "    }\n",
              "    30% {\n",
              "      border-color: transparent;\n",
              "      border-left-color: var(--fill-color);\n",
              "      border-top-color: var(--fill-color);\n",
              "      border-right-color: var(--fill-color);\n",
              "    }\n",
              "    40% {\n",
              "      border-color: transparent;\n",
              "      border-right-color: var(--fill-color);\n",
              "      border-top-color: var(--fill-color);\n",
              "    }\n",
              "    60% {\n",
              "      border-color: transparent;\n",
              "      border-right-color: var(--fill-color);\n",
              "    }\n",
              "    80% {\n",
              "      border-color: transparent;\n",
              "      border-right-color: var(--fill-color);\n",
              "      border-bottom-color: var(--fill-color);\n",
              "    }\n",
              "    90% {\n",
              "      border-color: transparent;\n",
              "      border-bottom-color: var(--fill-color);\n",
              "    }\n",
              "  }\n",
              "</style>\n",
              "\n",
              "      <script>\n",
              "        async function quickchart(key) {\n",
              "          const quickchartButtonEl =\n",
              "            document.querySelector('#' + key + ' button');\n",
              "          quickchartButtonEl.disabled = true;  // To prevent multiple clicks.\n",
              "          quickchartButtonEl.classList.add('colab-df-spinner');\n",
              "          try {\n",
              "            const charts = await google.colab.kernel.invokeFunction(\n",
              "                'suggestCharts', [key], {});\n",
              "          } catch (error) {\n",
              "            console.error('Error during call to suggestCharts:', error);\n",
              "          }\n",
              "          quickchartButtonEl.classList.remove('colab-df-spinner');\n",
              "          quickchartButtonEl.classList.add('colab-df-quickchart-complete');\n",
              "        }\n",
              "        (() => {\n",
              "          let quickchartButtonEl =\n",
              "            document.querySelector('#df-08776d39-765c-4b2a-bd3a-df8bcd376cc4 button');\n",
              "          quickchartButtonEl.style.display =\n",
              "            google.colab.kernel.accessAllowed ? 'block' : 'none';\n",
              "        })();\n",
              "      </script>\n",
              "    </div>\n",
              "    </div>\n",
              "  </div>\n"
            ],
            "application/vnd.google.colaboratory.intrinsic+json": {
              "type": "dataframe",
              "summary": "{\n  \"name\": \"df_clean[['cust_account_balance', 'transaction_amount_inr']]\",\n  \"rows\": 8,\n  \"fields\": [\n    {\n      \"column\": \"cust_account_balance\",\n      \"properties\": {\n        \"dtype\": \"number\",\n        \"std\": 40579042.07157005,\n        \"min\": 0.0,\n        \"max\": 115035495.1,\n        \"num_unique_values\": 8,\n        \"samples\": [\n          106455.62327632506,\n          16030.08,\n          839059.0\n        ],\n        \"semantic_type\": \"\",\n        \"description\": \"\"\n      }\n    },\n    {\n      \"column\": \"transaction_amount_inr\",\n      \"properties\": {\n        \"dtype\": \"number\",\n        \"std\": 587082.7021439665,\n        \"min\": 0.0,\n        \"max\": 1560034.99,\n        \"num_unique_values\": 8,\n        \"samples\": [\n          1452.8224732587341,\n          430.0,\n          839059.0\n        ],\n        \"semantic_type\": \"\",\n        \"description\": \"\"\n      }\n    }\n  ]\n}"
            }
          },
          "metadata": {},
          "execution_count": 26
        }
      ]
    },
    {
      "cell_type": "markdown",
      "source": [
        "У нас есть счета с нулевыми балансами, это могут быть новые пользователи или ушедшие пользователи или ошибкой логирования. Мы исключим такие данные, так как будем проводить анализ по активным пользователям, а нулевые балансы будут искажать среднее значение. Также есть нулевые транзакции, их тоже исключим из данных. Есть еще балансы с очень большими суммами, изучим их внимательнее."
      ],
      "metadata": {
        "id": "KAfz3VeoAHxT"
      }
    },
    {
      "cell_type": "code",
      "source": [
        "# Выведем пользователей у которых более 100 млн. на счету\n",
        "df_clean[df_clean['cust_account_balance'] > 100000000]"
      ],
      "metadata": {
        "colab": {
          "base_uri": "https://localhost:8080/",
          "height": 383
        },
        "id": "KryvjIwJAPQT",
        "outputId": "b66dc7be-ecaf-4b4a-c8b7-89e1e27c7b5a"
      },
      "execution_count": null,
      "outputs": [
        {
          "output_type": "execute_result",
          "data": {
            "text/plain": [
              "        transaction_id customer_id customer_dob cust_gender cust_location  \\\n",
              "826721         T826722    C2216823   1967-08-03           M      SHILLONG   \n",
              "40982           T40983    C2916865   1967-08-03           M      SHILLONG   \n",
              "835641         T835642    C2916887   1967-08-03           M      SHILLONG   \n",
              "656264         T656265    C3316830   1967-08-03           M      SHILLONG   \n",
              "879623         T879624    C4316889   1967-08-03           M      SHILLONG   \n",
              "1002072       T1002073    C5116828   1967-08-03           M      SHILLONG   \n",
              "1001213       T1001214    C5916881   1967-08-03           M      SHILLONG   \n",
              "789085         T789086    C6416825   1967-08-03           M      SHILLONG   \n",
              "1002847       T1002848    C7716886   1967-08-03           M      SHILLONG   \n",
              "876392         T876393    C8116818   1967-08-03           M      SHILLONG   \n",
              "\n",
              "         cust_account_balance transaction_date transaction_time  \\\n",
              "826721            115035495.1       2016-09-04         14:12:39   \n",
              "40982             115035495.1       2016-09-27         22:49:12   \n",
              "835641            115035495.1       2016-09-04         09:31:41   \n",
              "656264            115035495.1       2016-08-28         23:11:12   \n",
              "879623            115035495.1       2016-09-08         21:36:12   \n",
              "1002072           115035495.1       2016-09-14         15:14:18   \n",
              "1001213           115035495.1       2016-09-14         16:01:23   \n",
              "789085            115035495.1       2016-09-05         10:06:06   \n",
              "1002847           115035495.1       2016-09-14         15:33:35   \n",
              "876392            115035495.1       2016-09-08         21:43:55   \n",
              "\n",
              "         transaction_amount_inr  \n",
              "826721                  4699.00  \n",
              "40982                   6959.00  \n",
              "835641                   600.00  \n",
              "656264                 28019.32  \n",
              "879623                  4364.00  \n",
              "1002072                 5060.00  \n",
              "1001213                 1599.00  \n",
              "789085                  5864.00  \n",
              "1002847                 3604.00  \n",
              "876392                  3149.00  "
            ],
            "text/html": [
              "\n",
              "  <div id=\"df-0c82ebc4-356f-419a-8e4e-36e7d6f0e152\" class=\"colab-df-container\">\n",
              "    <div>\n",
              "<style scoped>\n",
              "    .dataframe tbody tr th:only-of-type {\n",
              "        vertical-align: middle;\n",
              "    }\n",
              "\n",
              "    .dataframe tbody tr th {\n",
              "        vertical-align: top;\n",
              "    }\n",
              "\n",
              "    .dataframe thead th {\n",
              "        text-align: right;\n",
              "    }\n",
              "</style>\n",
              "<table border=\"1\" class=\"dataframe\">\n",
              "  <thead>\n",
              "    <tr style=\"text-align: right;\">\n",
              "      <th></th>\n",
              "      <th>transaction_id</th>\n",
              "      <th>customer_id</th>\n",
              "      <th>customer_dob</th>\n",
              "      <th>cust_gender</th>\n",
              "      <th>cust_location</th>\n",
              "      <th>cust_account_balance</th>\n",
              "      <th>transaction_date</th>\n",
              "      <th>transaction_time</th>\n",
              "      <th>transaction_amount_inr</th>\n",
              "    </tr>\n",
              "  </thead>\n",
              "  <tbody>\n",
              "    <tr>\n",
              "      <th>826721</th>\n",
              "      <td>T826722</td>\n",
              "      <td>C2216823</td>\n",
              "      <td>1967-08-03</td>\n",
              "      <td>M</td>\n",
              "      <td>SHILLONG</td>\n",
              "      <td>115035495.1</td>\n",
              "      <td>2016-09-04</td>\n",
              "      <td>14:12:39</td>\n",
              "      <td>4699.00</td>\n",
              "    </tr>\n",
              "    <tr>\n",
              "      <th>40982</th>\n",
              "      <td>T40983</td>\n",
              "      <td>C2916865</td>\n",
              "      <td>1967-08-03</td>\n",
              "      <td>M</td>\n",
              "      <td>SHILLONG</td>\n",
              "      <td>115035495.1</td>\n",
              "      <td>2016-09-27</td>\n",
              "      <td>22:49:12</td>\n",
              "      <td>6959.00</td>\n",
              "    </tr>\n",
              "    <tr>\n",
              "      <th>835641</th>\n",
              "      <td>T835642</td>\n",
              "      <td>C2916887</td>\n",
              "      <td>1967-08-03</td>\n",
              "      <td>M</td>\n",
              "      <td>SHILLONG</td>\n",
              "      <td>115035495.1</td>\n",
              "      <td>2016-09-04</td>\n",
              "      <td>09:31:41</td>\n",
              "      <td>600.00</td>\n",
              "    </tr>\n",
              "    <tr>\n",
              "      <th>656264</th>\n",
              "      <td>T656265</td>\n",
              "      <td>C3316830</td>\n",
              "      <td>1967-08-03</td>\n",
              "      <td>M</td>\n",
              "      <td>SHILLONG</td>\n",
              "      <td>115035495.1</td>\n",
              "      <td>2016-08-28</td>\n",
              "      <td>23:11:12</td>\n",
              "      <td>28019.32</td>\n",
              "    </tr>\n",
              "    <tr>\n",
              "      <th>879623</th>\n",
              "      <td>T879624</td>\n",
              "      <td>C4316889</td>\n",
              "      <td>1967-08-03</td>\n",
              "      <td>M</td>\n",
              "      <td>SHILLONG</td>\n",
              "      <td>115035495.1</td>\n",
              "      <td>2016-09-08</td>\n",
              "      <td>21:36:12</td>\n",
              "      <td>4364.00</td>\n",
              "    </tr>\n",
              "    <tr>\n",
              "      <th>1002072</th>\n",
              "      <td>T1002073</td>\n",
              "      <td>C5116828</td>\n",
              "      <td>1967-08-03</td>\n",
              "      <td>M</td>\n",
              "      <td>SHILLONG</td>\n",
              "      <td>115035495.1</td>\n",
              "      <td>2016-09-14</td>\n",
              "      <td>15:14:18</td>\n",
              "      <td>5060.00</td>\n",
              "    </tr>\n",
              "    <tr>\n",
              "      <th>1001213</th>\n",
              "      <td>T1001214</td>\n",
              "      <td>C5916881</td>\n",
              "      <td>1967-08-03</td>\n",
              "      <td>M</td>\n",
              "      <td>SHILLONG</td>\n",
              "      <td>115035495.1</td>\n",
              "      <td>2016-09-14</td>\n",
              "      <td>16:01:23</td>\n",
              "      <td>1599.00</td>\n",
              "    </tr>\n",
              "    <tr>\n",
              "      <th>789085</th>\n",
              "      <td>T789086</td>\n",
              "      <td>C6416825</td>\n",
              "      <td>1967-08-03</td>\n",
              "      <td>M</td>\n",
              "      <td>SHILLONG</td>\n",
              "      <td>115035495.1</td>\n",
              "      <td>2016-09-05</td>\n",
              "      <td>10:06:06</td>\n",
              "      <td>5864.00</td>\n",
              "    </tr>\n",
              "    <tr>\n",
              "      <th>1002847</th>\n",
              "      <td>T1002848</td>\n",
              "      <td>C7716886</td>\n",
              "      <td>1967-08-03</td>\n",
              "      <td>M</td>\n",
              "      <td>SHILLONG</td>\n",
              "      <td>115035495.1</td>\n",
              "      <td>2016-09-14</td>\n",
              "      <td>15:33:35</td>\n",
              "      <td>3604.00</td>\n",
              "    </tr>\n",
              "    <tr>\n",
              "      <th>876392</th>\n",
              "      <td>T876393</td>\n",
              "      <td>C8116818</td>\n",
              "      <td>1967-08-03</td>\n",
              "      <td>M</td>\n",
              "      <td>SHILLONG</td>\n",
              "      <td>115035495.1</td>\n",
              "      <td>2016-09-08</td>\n",
              "      <td>21:43:55</td>\n",
              "      <td>3149.00</td>\n",
              "    </tr>\n",
              "  </tbody>\n",
              "</table>\n",
              "</div>\n",
              "    <div class=\"colab-df-buttons\">\n",
              "\n",
              "  <div class=\"colab-df-container\">\n",
              "    <button class=\"colab-df-convert\" onclick=\"convertToInteractive('df-0c82ebc4-356f-419a-8e4e-36e7d6f0e152')\"\n",
              "            title=\"Convert this dataframe to an interactive table.\"\n",
              "            style=\"display:none;\">\n",
              "\n",
              "  <svg xmlns=\"http://www.w3.org/2000/svg\" height=\"24px\" viewBox=\"0 -960 960 960\">\n",
              "    <path d=\"M120-120v-720h720v720H120Zm60-500h600v-160H180v160Zm220 220h160v-160H400v160Zm0 220h160v-160H400v160ZM180-400h160v-160H180v160Zm440 0h160v-160H620v160ZM180-180h160v-160H180v160Zm440 0h160v-160H620v160Z\"/>\n",
              "  </svg>\n",
              "    </button>\n",
              "\n",
              "  <style>\n",
              "    .colab-df-container {\n",
              "      display:flex;\n",
              "      gap: 12px;\n",
              "    }\n",
              "\n",
              "    .colab-df-convert {\n",
              "      background-color: #E8F0FE;\n",
              "      border: none;\n",
              "      border-radius: 50%;\n",
              "      cursor: pointer;\n",
              "      display: none;\n",
              "      fill: #1967D2;\n",
              "      height: 32px;\n",
              "      padding: 0 0 0 0;\n",
              "      width: 32px;\n",
              "    }\n",
              "\n",
              "    .colab-df-convert:hover {\n",
              "      background-color: #E2EBFA;\n",
              "      box-shadow: 0px 1px 2px rgba(60, 64, 67, 0.3), 0px 1px 3px 1px rgba(60, 64, 67, 0.15);\n",
              "      fill: #174EA6;\n",
              "    }\n",
              "\n",
              "    .colab-df-buttons div {\n",
              "      margin-bottom: 4px;\n",
              "    }\n",
              "\n",
              "    [theme=dark] .colab-df-convert {\n",
              "      background-color: #3B4455;\n",
              "      fill: #D2E3FC;\n",
              "    }\n",
              "\n",
              "    [theme=dark] .colab-df-convert:hover {\n",
              "      background-color: #434B5C;\n",
              "      box-shadow: 0px 1px 3px 1px rgba(0, 0, 0, 0.15);\n",
              "      filter: drop-shadow(0px 1px 2px rgba(0, 0, 0, 0.3));\n",
              "      fill: #FFFFFF;\n",
              "    }\n",
              "  </style>\n",
              "\n",
              "    <script>\n",
              "      const buttonEl =\n",
              "        document.querySelector('#df-0c82ebc4-356f-419a-8e4e-36e7d6f0e152 button.colab-df-convert');\n",
              "      buttonEl.style.display =\n",
              "        google.colab.kernel.accessAllowed ? 'block' : 'none';\n",
              "\n",
              "      async function convertToInteractive(key) {\n",
              "        const element = document.querySelector('#df-0c82ebc4-356f-419a-8e4e-36e7d6f0e152');\n",
              "        const dataTable =\n",
              "          await google.colab.kernel.invokeFunction('convertToInteractive',\n",
              "                                                    [key], {});\n",
              "        if (!dataTable) return;\n",
              "\n",
              "        const docLinkHtml = 'Like what you see? Visit the ' +\n",
              "          '<a target=\"_blank\" href=https://colab.research.google.com/notebooks/data_table.ipynb>data table notebook</a>'\n",
              "          + ' to learn more about interactive tables.';\n",
              "        element.innerHTML = '';\n",
              "        dataTable['output_type'] = 'display_data';\n",
              "        await google.colab.output.renderOutput(dataTable, element);\n",
              "        const docLink = document.createElement('div');\n",
              "        docLink.innerHTML = docLinkHtml;\n",
              "        element.appendChild(docLink);\n",
              "      }\n",
              "    </script>\n",
              "  </div>\n",
              "\n",
              "\n",
              "    <div id=\"df-9a4fea8e-5a8c-4dcf-bda7-04af32ea451a\">\n",
              "      <button class=\"colab-df-quickchart\" onclick=\"quickchart('df-9a4fea8e-5a8c-4dcf-bda7-04af32ea451a')\"\n",
              "                title=\"Suggest charts\"\n",
              "                style=\"display:none;\">\n",
              "\n",
              "<svg xmlns=\"http://www.w3.org/2000/svg\" height=\"24px\"viewBox=\"0 0 24 24\"\n",
              "     width=\"24px\">\n",
              "    <g>\n",
              "        <path d=\"M19 3H5c-1.1 0-2 .9-2 2v14c0 1.1.9 2 2 2h14c1.1 0 2-.9 2-2V5c0-1.1-.9-2-2-2zM9 17H7v-7h2v7zm4 0h-2V7h2v10zm4 0h-2v-4h2v4z\"/>\n",
              "    </g>\n",
              "</svg>\n",
              "      </button>\n",
              "\n",
              "<style>\n",
              "  .colab-df-quickchart {\n",
              "      --bg-color: #E8F0FE;\n",
              "      --fill-color: #1967D2;\n",
              "      --hover-bg-color: #E2EBFA;\n",
              "      --hover-fill-color: #174EA6;\n",
              "      --disabled-fill-color: #AAA;\n",
              "      --disabled-bg-color: #DDD;\n",
              "  }\n",
              "\n",
              "  [theme=dark] .colab-df-quickchart {\n",
              "      --bg-color: #3B4455;\n",
              "      --fill-color: #D2E3FC;\n",
              "      --hover-bg-color: #434B5C;\n",
              "      --hover-fill-color: #FFFFFF;\n",
              "      --disabled-bg-color: #3B4455;\n",
              "      --disabled-fill-color: #666;\n",
              "  }\n",
              "\n",
              "  .colab-df-quickchart {\n",
              "    background-color: var(--bg-color);\n",
              "    border: none;\n",
              "    border-radius: 50%;\n",
              "    cursor: pointer;\n",
              "    display: none;\n",
              "    fill: var(--fill-color);\n",
              "    height: 32px;\n",
              "    padding: 0;\n",
              "    width: 32px;\n",
              "  }\n",
              "\n",
              "  .colab-df-quickchart:hover {\n",
              "    background-color: var(--hover-bg-color);\n",
              "    box-shadow: 0 1px 2px rgba(60, 64, 67, 0.3), 0 1px 3px 1px rgba(60, 64, 67, 0.15);\n",
              "    fill: var(--button-hover-fill-color);\n",
              "  }\n",
              "\n",
              "  .colab-df-quickchart-complete:disabled,\n",
              "  .colab-df-quickchart-complete:disabled:hover {\n",
              "    background-color: var(--disabled-bg-color);\n",
              "    fill: var(--disabled-fill-color);\n",
              "    box-shadow: none;\n",
              "  }\n",
              "\n",
              "  .colab-df-spinner {\n",
              "    border: 2px solid var(--fill-color);\n",
              "    border-color: transparent;\n",
              "    border-bottom-color: var(--fill-color);\n",
              "    animation:\n",
              "      spin 1s steps(1) infinite;\n",
              "  }\n",
              "\n",
              "  @keyframes spin {\n",
              "    0% {\n",
              "      border-color: transparent;\n",
              "      border-bottom-color: var(--fill-color);\n",
              "      border-left-color: var(--fill-color);\n",
              "    }\n",
              "    20% {\n",
              "      border-color: transparent;\n",
              "      border-left-color: var(--fill-color);\n",
              "      border-top-color: var(--fill-color);\n",
              "    }\n",
              "    30% {\n",
              "      border-color: transparent;\n",
              "      border-left-color: var(--fill-color);\n",
              "      border-top-color: var(--fill-color);\n",
              "      border-right-color: var(--fill-color);\n",
              "    }\n",
              "    40% {\n",
              "      border-color: transparent;\n",
              "      border-right-color: var(--fill-color);\n",
              "      border-top-color: var(--fill-color);\n",
              "    }\n",
              "    60% {\n",
              "      border-color: transparent;\n",
              "      border-right-color: var(--fill-color);\n",
              "    }\n",
              "    80% {\n",
              "      border-color: transparent;\n",
              "      border-right-color: var(--fill-color);\n",
              "      border-bottom-color: var(--fill-color);\n",
              "    }\n",
              "    90% {\n",
              "      border-color: transparent;\n",
              "      border-bottom-color: var(--fill-color);\n",
              "    }\n",
              "  }\n",
              "</style>\n",
              "\n",
              "      <script>\n",
              "        async function quickchart(key) {\n",
              "          const quickchartButtonEl =\n",
              "            document.querySelector('#' + key + ' button');\n",
              "          quickchartButtonEl.disabled = true;  // To prevent multiple clicks.\n",
              "          quickchartButtonEl.classList.add('colab-df-spinner');\n",
              "          try {\n",
              "            const charts = await google.colab.kernel.invokeFunction(\n",
              "                'suggestCharts', [key], {});\n",
              "          } catch (error) {\n",
              "            console.error('Error during call to suggestCharts:', error);\n",
              "          }\n",
              "          quickchartButtonEl.classList.remove('colab-df-spinner');\n",
              "          quickchartButtonEl.classList.add('colab-df-quickchart-complete');\n",
              "        }\n",
              "        (() => {\n",
              "          let quickchartButtonEl =\n",
              "            document.querySelector('#df-9a4fea8e-5a8c-4dcf-bda7-04af32ea451a button');\n",
              "          quickchartButtonEl.style.display =\n",
              "            google.colab.kernel.accessAllowed ? 'block' : 'none';\n",
              "        })();\n",
              "      </script>\n",
              "    </div>\n",
              "    </div>\n",
              "  </div>\n"
            ],
            "application/vnd.google.colaboratory.intrinsic+json": {
              "type": "dataframe",
              "summary": "{\n  \"name\": \"df_clean[df_clean['cust_account_balance'] > 100000000]\",\n  \"rows\": 10,\n  \"fields\": [\n    {\n      \"column\": \"transaction_id\",\n      \"properties\": {\n        \"dtype\": \"string\",\n        \"num_unique_values\": 10,\n        \"samples\": [\n          \"T1002848\",\n          \"T40983\",\n          \"T1002073\"\n        ],\n        \"semantic_type\": \"\",\n        \"description\": \"\"\n      }\n    },\n    {\n      \"column\": \"customer_id\",\n      \"properties\": {\n        \"dtype\": \"string\",\n        \"num_unique_values\": 10,\n        \"samples\": [\n          \"C7716886\",\n          \"C2916865\",\n          \"C5116828\"\n        ],\n        \"semantic_type\": \"\",\n        \"description\": \"\"\n      }\n    },\n    {\n      \"column\": \"customer_dob\",\n      \"properties\": {\n        \"dtype\": \"date\",\n        \"min\": \"1967-08-03 00:00:00\",\n        \"max\": \"1967-08-03 00:00:00\",\n        \"num_unique_values\": 1,\n        \"samples\": [\n          \"1967-08-03 00:00:00\"\n        ],\n        \"semantic_type\": \"\",\n        \"description\": \"\"\n      }\n    },\n    {\n      \"column\": \"cust_gender\",\n      \"properties\": {\n        \"dtype\": \"category\",\n        \"num_unique_values\": 1,\n        \"samples\": [\n          \"M\"\n        ],\n        \"semantic_type\": \"\",\n        \"description\": \"\"\n      }\n    },\n    {\n      \"column\": \"cust_location\",\n      \"properties\": {\n        \"dtype\": \"category\",\n        \"num_unique_values\": 1,\n        \"samples\": [\n          \"SHILLONG\"\n        ],\n        \"semantic_type\": \"\",\n        \"description\": \"\"\n      }\n    },\n    {\n      \"column\": \"cust_account_balance\",\n      \"properties\": {\n        \"dtype\": \"number\",\n        \"std\": 0.0,\n        \"min\": 115035495.1,\n        \"max\": 115035495.1,\n        \"num_unique_values\": 1,\n        \"samples\": [\n          115035495.1\n        ],\n        \"semantic_type\": \"\",\n        \"description\": \"\"\n      }\n    },\n    {\n      \"column\": \"transaction_date\",\n      \"properties\": {\n        \"dtype\": \"date\",\n        \"min\": \"2016-08-28 00:00:00\",\n        \"max\": \"2016-09-27 00:00:00\",\n        \"num_unique_values\": 6,\n        \"samples\": [\n          \"2016-09-04 00:00:00\"\n        ],\n        \"semantic_type\": \"\",\n        \"description\": \"\"\n      }\n    },\n    {\n      \"column\": \"transaction_time\",\n      \"properties\": {\n        \"dtype\": \"string\",\n        \"num_unique_values\": 10,\n        \"samples\": [\n          \"15:33:35\"\n        ],\n        \"semantic_type\": \"\",\n        \"description\": \"\"\n      }\n    },\n    {\n      \"column\": \"transaction_amount_inr\",\n      \"properties\": {\n        \"dtype\": \"number\",\n        \"std\": 7830.883344979955,\n        \"min\": 600.0,\n        \"max\": 28019.32,\n        \"num_unique_values\": 10,\n        \"samples\": [\n          3604.0\n        ],\n        \"semantic_type\": \"\",\n        \"description\": \"\"\n      }\n    }\n  ]\n}"
            }
          },
          "metadata": {},
          "execution_count": 27
        }
      ]
    },
    {
      "cell_type": "markdown",
      "source": [
        "Создается впечатление, что это один и тот же пользователь. Чтобы не искажать данные исключим из нашего датафрейма такие счета."
      ],
      "metadata": {
        "id": "-FgF6wIZJrIU"
      }
    },
    {
      "cell_type": "code",
      "source": [
        "# Устанавливаем границу, чтобы отсечь очень крупные счета\n",
        "upper_bound = df_clean['cust_account_balance'].quantile(0.99)\n",
        "\n",
        "# Исключаем из датафрейма лишние данные\n",
        "df_clean = df_clean[(df_clean['cust_account_balance'] <= upper_bound) &\n",
        "                    (df_clean['cust_account_balance'] != 0) &\n",
        "                    (df_clean['transaction_amount_inr'] != 0)]"
      ],
      "metadata": {
        "id": "3FQ5RQFNKirU"
      },
      "execution_count": null,
      "outputs": []
    },
    {
      "cell_type": "code",
      "source": [
        "# Посмотрим статистику в колонках с категориальными данными\n",
        "df_clean[['cust_gender', 'cust_location']].describe()"
      ],
      "metadata": {
        "colab": {
          "base_uri": "https://localhost:8080/",
          "height": 175
        },
        "id": "D1EImXCSPz6D",
        "outputId": "7f323e92-e142-43c1-a258-d1cb5ac10458"
      },
      "execution_count": null,
      "outputs": [
        {
          "output_type": "execute_result",
          "data": {
            "text/plain": [
              "       cust_gender cust_location\n",
              "count       828302        828302\n",
              "unique           2          7863\n",
              "top              M        MUMBAI\n",
              "freq        598372         81247"
            ],
            "text/html": [
              "\n",
              "  <div id=\"df-4a72bca6-08a1-4625-86b0-2982940c6f3d\" class=\"colab-df-container\">\n",
              "    <div>\n",
              "<style scoped>\n",
              "    .dataframe tbody tr th:only-of-type {\n",
              "        vertical-align: middle;\n",
              "    }\n",
              "\n",
              "    .dataframe tbody tr th {\n",
              "        vertical-align: top;\n",
              "    }\n",
              "\n",
              "    .dataframe thead th {\n",
              "        text-align: right;\n",
              "    }\n",
              "</style>\n",
              "<table border=\"1\" class=\"dataframe\">\n",
              "  <thead>\n",
              "    <tr style=\"text-align: right;\">\n",
              "      <th></th>\n",
              "      <th>cust_gender</th>\n",
              "      <th>cust_location</th>\n",
              "    </tr>\n",
              "  </thead>\n",
              "  <tbody>\n",
              "    <tr>\n",
              "      <th>count</th>\n",
              "      <td>828302</td>\n",
              "      <td>828302</td>\n",
              "    </tr>\n",
              "    <tr>\n",
              "      <th>unique</th>\n",
              "      <td>2</td>\n",
              "      <td>7863</td>\n",
              "    </tr>\n",
              "    <tr>\n",
              "      <th>top</th>\n",
              "      <td>M</td>\n",
              "      <td>MUMBAI</td>\n",
              "    </tr>\n",
              "    <tr>\n",
              "      <th>freq</th>\n",
              "      <td>598372</td>\n",
              "      <td>81247</td>\n",
              "    </tr>\n",
              "  </tbody>\n",
              "</table>\n",
              "</div>\n",
              "    <div class=\"colab-df-buttons\">\n",
              "\n",
              "  <div class=\"colab-df-container\">\n",
              "    <button class=\"colab-df-convert\" onclick=\"convertToInteractive('df-4a72bca6-08a1-4625-86b0-2982940c6f3d')\"\n",
              "            title=\"Convert this dataframe to an interactive table.\"\n",
              "            style=\"display:none;\">\n",
              "\n",
              "  <svg xmlns=\"http://www.w3.org/2000/svg\" height=\"24px\" viewBox=\"0 -960 960 960\">\n",
              "    <path d=\"M120-120v-720h720v720H120Zm60-500h600v-160H180v160Zm220 220h160v-160H400v160Zm0 220h160v-160H400v160ZM180-400h160v-160H180v160Zm440 0h160v-160H620v160ZM180-180h160v-160H180v160Zm440 0h160v-160H620v160Z\"/>\n",
              "  </svg>\n",
              "    </button>\n",
              "\n",
              "  <style>\n",
              "    .colab-df-container {\n",
              "      display:flex;\n",
              "      gap: 12px;\n",
              "    }\n",
              "\n",
              "    .colab-df-convert {\n",
              "      background-color: #E8F0FE;\n",
              "      border: none;\n",
              "      border-radius: 50%;\n",
              "      cursor: pointer;\n",
              "      display: none;\n",
              "      fill: #1967D2;\n",
              "      height: 32px;\n",
              "      padding: 0 0 0 0;\n",
              "      width: 32px;\n",
              "    }\n",
              "\n",
              "    .colab-df-convert:hover {\n",
              "      background-color: #E2EBFA;\n",
              "      box-shadow: 0px 1px 2px rgba(60, 64, 67, 0.3), 0px 1px 3px 1px rgba(60, 64, 67, 0.15);\n",
              "      fill: #174EA6;\n",
              "    }\n",
              "\n",
              "    .colab-df-buttons div {\n",
              "      margin-bottom: 4px;\n",
              "    }\n",
              "\n",
              "    [theme=dark] .colab-df-convert {\n",
              "      background-color: #3B4455;\n",
              "      fill: #D2E3FC;\n",
              "    }\n",
              "\n",
              "    [theme=dark] .colab-df-convert:hover {\n",
              "      background-color: #434B5C;\n",
              "      box-shadow: 0px 1px 3px 1px rgba(0, 0, 0, 0.15);\n",
              "      filter: drop-shadow(0px 1px 2px rgba(0, 0, 0, 0.3));\n",
              "      fill: #FFFFFF;\n",
              "    }\n",
              "  </style>\n",
              "\n",
              "    <script>\n",
              "      const buttonEl =\n",
              "        document.querySelector('#df-4a72bca6-08a1-4625-86b0-2982940c6f3d button.colab-df-convert');\n",
              "      buttonEl.style.display =\n",
              "        google.colab.kernel.accessAllowed ? 'block' : 'none';\n",
              "\n",
              "      async function convertToInteractive(key) {\n",
              "        const element = document.querySelector('#df-4a72bca6-08a1-4625-86b0-2982940c6f3d');\n",
              "        const dataTable =\n",
              "          await google.colab.kernel.invokeFunction('convertToInteractive',\n",
              "                                                    [key], {});\n",
              "        if (!dataTable) return;\n",
              "\n",
              "        const docLinkHtml = 'Like what you see? Visit the ' +\n",
              "          '<a target=\"_blank\" href=https://colab.research.google.com/notebooks/data_table.ipynb>data table notebook</a>'\n",
              "          + ' to learn more about interactive tables.';\n",
              "        element.innerHTML = '';\n",
              "        dataTable['output_type'] = 'display_data';\n",
              "        await google.colab.output.renderOutput(dataTable, element);\n",
              "        const docLink = document.createElement('div');\n",
              "        docLink.innerHTML = docLinkHtml;\n",
              "        element.appendChild(docLink);\n",
              "      }\n",
              "    </script>\n",
              "  </div>\n",
              "\n",
              "\n",
              "    <div id=\"df-1fbcc6ee-695c-4438-8896-de05341d468e\">\n",
              "      <button class=\"colab-df-quickchart\" onclick=\"quickchart('df-1fbcc6ee-695c-4438-8896-de05341d468e')\"\n",
              "                title=\"Suggest charts\"\n",
              "                style=\"display:none;\">\n",
              "\n",
              "<svg xmlns=\"http://www.w3.org/2000/svg\" height=\"24px\"viewBox=\"0 0 24 24\"\n",
              "     width=\"24px\">\n",
              "    <g>\n",
              "        <path d=\"M19 3H5c-1.1 0-2 .9-2 2v14c0 1.1.9 2 2 2h14c1.1 0 2-.9 2-2V5c0-1.1-.9-2-2-2zM9 17H7v-7h2v7zm4 0h-2V7h2v10zm4 0h-2v-4h2v4z\"/>\n",
              "    </g>\n",
              "</svg>\n",
              "      </button>\n",
              "\n",
              "<style>\n",
              "  .colab-df-quickchart {\n",
              "      --bg-color: #E8F0FE;\n",
              "      --fill-color: #1967D2;\n",
              "      --hover-bg-color: #E2EBFA;\n",
              "      --hover-fill-color: #174EA6;\n",
              "      --disabled-fill-color: #AAA;\n",
              "      --disabled-bg-color: #DDD;\n",
              "  }\n",
              "\n",
              "  [theme=dark] .colab-df-quickchart {\n",
              "      --bg-color: #3B4455;\n",
              "      --fill-color: #D2E3FC;\n",
              "      --hover-bg-color: #434B5C;\n",
              "      --hover-fill-color: #FFFFFF;\n",
              "      --disabled-bg-color: #3B4455;\n",
              "      --disabled-fill-color: #666;\n",
              "  }\n",
              "\n",
              "  .colab-df-quickchart {\n",
              "    background-color: var(--bg-color);\n",
              "    border: none;\n",
              "    border-radius: 50%;\n",
              "    cursor: pointer;\n",
              "    display: none;\n",
              "    fill: var(--fill-color);\n",
              "    height: 32px;\n",
              "    padding: 0;\n",
              "    width: 32px;\n",
              "  }\n",
              "\n",
              "  .colab-df-quickchart:hover {\n",
              "    background-color: var(--hover-bg-color);\n",
              "    box-shadow: 0 1px 2px rgba(60, 64, 67, 0.3), 0 1px 3px 1px rgba(60, 64, 67, 0.15);\n",
              "    fill: var(--button-hover-fill-color);\n",
              "  }\n",
              "\n",
              "  .colab-df-quickchart-complete:disabled,\n",
              "  .colab-df-quickchart-complete:disabled:hover {\n",
              "    background-color: var(--disabled-bg-color);\n",
              "    fill: var(--disabled-fill-color);\n",
              "    box-shadow: none;\n",
              "  }\n",
              "\n",
              "  .colab-df-spinner {\n",
              "    border: 2px solid var(--fill-color);\n",
              "    border-color: transparent;\n",
              "    border-bottom-color: var(--fill-color);\n",
              "    animation:\n",
              "      spin 1s steps(1) infinite;\n",
              "  }\n",
              "\n",
              "  @keyframes spin {\n",
              "    0% {\n",
              "      border-color: transparent;\n",
              "      border-bottom-color: var(--fill-color);\n",
              "      border-left-color: var(--fill-color);\n",
              "    }\n",
              "    20% {\n",
              "      border-color: transparent;\n",
              "      border-left-color: var(--fill-color);\n",
              "      border-top-color: var(--fill-color);\n",
              "    }\n",
              "    30% {\n",
              "      border-color: transparent;\n",
              "      border-left-color: var(--fill-color);\n",
              "      border-top-color: var(--fill-color);\n",
              "      border-right-color: var(--fill-color);\n",
              "    }\n",
              "    40% {\n",
              "      border-color: transparent;\n",
              "      border-right-color: var(--fill-color);\n",
              "      border-top-color: var(--fill-color);\n",
              "    }\n",
              "    60% {\n",
              "      border-color: transparent;\n",
              "      border-right-color: var(--fill-color);\n",
              "    }\n",
              "    80% {\n",
              "      border-color: transparent;\n",
              "      border-right-color: var(--fill-color);\n",
              "      border-bottom-color: var(--fill-color);\n",
              "    }\n",
              "    90% {\n",
              "      border-color: transparent;\n",
              "      border-bottom-color: var(--fill-color);\n",
              "    }\n",
              "  }\n",
              "</style>\n",
              "\n",
              "      <script>\n",
              "        async function quickchart(key) {\n",
              "          const quickchartButtonEl =\n",
              "            document.querySelector('#' + key + ' button');\n",
              "          quickchartButtonEl.disabled = true;  // To prevent multiple clicks.\n",
              "          quickchartButtonEl.classList.add('colab-df-spinner');\n",
              "          try {\n",
              "            const charts = await google.colab.kernel.invokeFunction(\n",
              "                'suggestCharts', [key], {});\n",
              "          } catch (error) {\n",
              "            console.error('Error during call to suggestCharts:', error);\n",
              "          }\n",
              "          quickchartButtonEl.classList.remove('colab-df-spinner');\n",
              "          quickchartButtonEl.classList.add('colab-df-quickchart-complete');\n",
              "        }\n",
              "        (() => {\n",
              "          let quickchartButtonEl =\n",
              "            document.querySelector('#df-1fbcc6ee-695c-4438-8896-de05341d468e button');\n",
              "          quickchartButtonEl.style.display =\n",
              "            google.colab.kernel.accessAllowed ? 'block' : 'none';\n",
              "        })();\n",
              "      </script>\n",
              "    </div>\n",
              "    </div>\n",
              "  </div>\n"
            ],
            "application/vnd.google.colaboratory.intrinsic+json": {
              "type": "dataframe",
              "summary": "{\n  \"name\": \"df_clean[['cust_gender', 'cust_location']]\",\n  \"rows\": 4,\n  \"fields\": [\n    {\n      \"column\": \"cust_gender\",\n      \"properties\": {\n        \"dtype\": \"string\",\n        \"num_unique_values\": 4,\n        \"samples\": [\n          2,\n          \"598372\",\n          \"828302\"\n        ],\n        \"semantic_type\": \"\",\n        \"description\": \"\"\n      }\n    },\n    {\n      \"column\": \"cust_location\",\n      \"properties\": {\n        \"dtype\": \"string\",\n        \"num_unique_values\": 4,\n        \"samples\": [\n          7863,\n          \"81247\",\n          \"828302\"\n        ],\n        \"semantic_type\": \"\",\n        \"description\": \"\"\n      }\n    }\n  ]\n}"
            }
          },
          "metadata": {},
          "execution_count": 29
        }
      ]
    },
    {
      "cell_type": "markdown",
      "source": [
        "Может показаться странным слишком большое количество городов, но по данным из [интернет-источника](https://dellitur.ru/goroda-indii) в Индии действительно зарегистрированно более 7000 городов и небольших городков."
      ],
      "metadata": {
        "id": "vpqFMMjuVFTh"
      }
    },
    {
      "cell_type": "code",
      "source": [
        "# Проверим информацию после очистки данных\n",
        "df_clean.info()"
      ],
      "metadata": {
        "colab": {
          "base_uri": "https://localhost:8080/"
        },
        "id": "So2Se-Q_rKDv",
        "outputId": "c3a872f1-eb52-4d9f-947d-1db689217e3c"
      },
      "execution_count": null,
      "outputs": [
        {
          "output_type": "stream",
          "name": "stdout",
          "text": [
            "<class 'pandas.core.frame.DataFrame'>\n",
            "Index: 828302 entries, 33670 to 29188\n",
            "Data columns (total 9 columns):\n",
            " #   Column                  Non-Null Count   Dtype         \n",
            "---  ------                  --------------   -----         \n",
            " 0   transaction_id          828302 non-null  object        \n",
            " 1   customer_id             828302 non-null  object        \n",
            " 2   customer_dob            828302 non-null  datetime64[ns]\n",
            " 3   cust_gender             828302 non-null  object        \n",
            " 4   cust_location           828302 non-null  object        \n",
            " 5   cust_account_balance    828302 non-null  float64       \n",
            " 6   transaction_date        828302 non-null  datetime64[ns]\n",
            " 7   transaction_time        828302 non-null  object        \n",
            " 8   transaction_amount_inr  828302 non-null  float64       \n",
            "dtypes: datetime64[ns](2), float64(2), object(5)\n",
            "memory usage: 63.2+ MB\n"
          ]
        }
      ]
    },
    {
      "cell_type": "markdown",
      "source": [
        "**Вывод:**\n",
        "\n",
        "* Обнаружили много ошибок и недочетов в данных.\n",
        "* Удалили все пропуски и оставили для каждого клиента только одну запись.\n",
        "* Удалили неявные дубликаты.\n",
        "* Очистили датафрейм от лишних данных.\n",
        "* Итоговый размер очищенных данных: 828,302 строк и 9 колонок."
      ],
      "metadata": {
        "id": "3EAW0R5rrlyL"
      }
    },
    {
      "cell_type": "markdown",
      "source": [
        "# Исследовательский анализ данных"
      ],
      "metadata": {
        "id": "P9nxLkBt8AXm"
      }
    },
    {
      "cell_type": "markdown",
      "source": [
        "**Проверим количество уникальных клиентов и транзакций**"
      ],
      "metadata": {
        "id": "FtVG_4r9R_AG"
      }
    },
    {
      "cell_type": "code",
      "source": [
        "# Проверим количество уникальных клиентов после обработки данных\n",
        "customers_nuniq = df_clean['customer_id'].nunique()\n",
        "print(f'Количество уникальных клиентов: {customers_nuniq}')"
      ],
      "metadata": {
        "id": "HZkprOqt6SEo",
        "colab": {
          "base_uri": "https://localhost:8080/"
        },
        "outputId": "2aaa916f-e4a0-47c6-f716-205934dc9111"
      },
      "execution_count": null,
      "outputs": [
        {
          "output_type": "stream",
          "name": "stdout",
          "text": [
            "Количество уникальных клиентов: 828302\n"
          ]
        }
      ]
    },
    {
      "cell_type": "code",
      "source": [
        "# Проверим количество транзакций после обработки данных\n",
        "cnt_transactions = df_clean['transaction_id'].nunique()\n",
        "print(f'Количество транзакций: {cnt_transactions}')"
      ],
      "metadata": {
        "id": "d-DRxme68JK6",
        "colab": {
          "base_uri": "https://localhost:8080/"
        },
        "outputId": "db116bed-e81d-4f00-a10f-2518b4674e45"
      },
      "execution_count": null,
      "outputs": [
        {
          "output_type": "stream",
          "name": "stdout",
          "text": [
            "Количество транзакций: 828302\n"
          ]
        }
      ]
    },
    {
      "cell_type": "markdown",
      "source": [
        "Получается, что у каждого клиента есть только одна транзакция."
      ],
      "metadata": {
        "id": "7TGVU3PGgv_R"
      }
    },
    {
      "cell_type": "markdown",
      "source": [
        "**Изучим распределение и размах величин в колонке с банковским счетом**"
      ],
      "metadata": {
        "id": "AqfHBwEsM1ks"
      }
    },
    {
      "cell_type": "code",
      "source": [
        "# Построение гистограммы\n",
        "plt.figure(figsize=(8, 4))\n",
        "plt.hist(df_clean['cust_account_balance'], color='green', bins=100, edgecolor='black')\n",
        "# Форматирование оси\n",
        "plt.gca().xaxis.set_major_formatter(FuncFormatter(lambda x, p: f'{x/1e6:.1f}M'))\n",
        "# Настройка отображения\n",
        "plt.title('Распределение средств на банковских счетах')\n",
        "plt.xlabel('Сумма счета, инд. рупии')\n",
        "plt.ylabel('Частота', labelpad=15)\n",
        "plt.grid(False)\n",
        "plt.show()\n",
        "\n",
        "# Построение ящика с усами\n",
        "plt.figure(figsize=(10, 4))\n",
        "plt.boxplot(df_clean['cust_account_balance'], vert=False)\n",
        "# Вычисляем квартили вручную для точности\n",
        "q1, q2, q3 = np.percentile(df_clean['cust_account_balance'], [25, 50, 75])\n",
        "# Добавляем подписи квартилей\n",
        "plt.text(q1, 1.35, f'Q1 = {q1:,.1f}', ha='left', va='center', fontsize=10, bbox=dict(facecolor='white', alpha=0.8, edgecolor='gray'))\n",
        "plt.text(q1, 1.25, f'Median = {q2:,.1f}', ha='left', va='center', fontsize=10, color='red', bbox=dict(facecolor='white', alpha=0.8, edgecolor='gray'))\n",
        "plt.text(q1, 1.15, f'Q3 = {q3:,.1f}', ha='left', va='center', fontsize=10, bbox=dict(facecolor='white', alpha=0.8, edgecolor='gray'))\n",
        "# Форматирование оси\n",
        "plt.gca().xaxis.set_major_formatter(FuncFormatter(lambda x, p: f'{x/1e6:.1f}M'))\n",
        "# Настройка отображения\n",
        "plt.title('Разброс значений по банковским счетам')\n",
        "plt.xlabel('Сумма счета, инд. рупии')\n",
        "plt.yticks([])\n",
        "plt.grid(axis='x', alpha=0.2)\n",
        "plt.show()"
      ],
      "metadata": {
        "id": "d90VRq498W3H",
        "colab": {
          "base_uri": "https://localhost:8080/",
          "height": 803
        },
        "outputId": "28a9da63-91f0-48db-ac52-991911581495"
      },
      "execution_count": null,
      "outputs": [
        {
          "output_type": "display_data",
          "data": {
            "text/plain": [
              "<Figure size 800x400 with 1 Axes>"
            ],
            "image/png": "[encoded data removed]"
          },
          "metadata": {}
        },
        {
          "output_type": "display_data",
          "data": {
            "text/plain": [
              "<Figure size 1000x400 with 1 Axes>"
            ],
            "image/png": "[encoded data removed]"
          },
          "metadata": {}
        }
      ]
    },
    {
      "cell_type": "code",
      "source": [
        "# Расчитаем процент выбросов\n",
        "balances = df_clean['cust_account_balance']\n",
        "\n",
        "# Рассчитываем квантили и IQR\n",
        "Q1 = balances.quantile(0.25)\n",
        "Q3 = balances.quantile(0.75)\n",
        "IQR = Q3 - Q1\n",
        "\n",
        "# Определяем границы\n",
        "lower_bound = Q1 - 1.5 * IQR\n",
        "upper_bound = Q3 + 1.5 * IQR\n",
        "\n",
        "# Находим выбросы\n",
        "outliers_mask = (balances > upper_bound)\n",
        "\n",
        "# Считаем количество и долю выбросов\n",
        "number_of_outliers = outliers_mask.sum()\n",
        "percentage_of_outliers = (number_of_outliers / len(balances)) * 100\n",
        "print(f'За верхней границей лежит {round(percentage_of_outliers)}% значений')"
      ],
      "metadata": {
        "colab": {
          "base_uri": "https://localhost:8080/"
        },
        "id": "N8PNOG5T-_it",
        "outputId": "0a381ea4-91fd-48e5-9559-2ebac4fcd586"
      },
      "execution_count": null,
      "outputs": [
        {
          "output_type": "stream",
          "name": "stdout",
          "text": [
            "За верхней границей лежит 13% значений\n"
          ]
        }
      ]
    },
    {
      "cell_type": "markdown",
      "source": [
        "Распределение правое асимметричное, что говорит о большом количестве мелких счетов. Подавляющее большинство имеют на балансе менее 100,000 рупий. 50% счетов находятся в диапазоне от 4,583 до 51,588 рупий, с медианой - 15,742 рупий. 13% счетов держат на балансе от 100,000 до 1,400,000 рупий."
      ],
      "metadata": {
        "id": "c7GI-54m6jUO"
      }
    },
    {
      "cell_type": "markdown",
      "source": [
        "**Изучим распределение и размах величин в колонке с транзакциями**"
      ],
      "metadata": {
        "id": "uA6t7u-dNFJ_"
      }
    },
    {
      "cell_type": "code",
      "source": [
        "# Построение гистограммы\n",
        "plt.figure(figsize=(8, 4))\n",
        "plt.hist(df_clean['transaction_amount_inr'], color='green', bins=100, edgecolor='black')\n",
        "# Форматирование оси\n",
        "plt.gca().xaxis.set_major_formatter(FuncFormatter(lambda x, p: f'{x/1e6:.1f}M'))\n",
        "# Настройка отображения\n",
        "plt.title('Распределение сумм транзакций')\n",
        "plt.xlabel('Сумма транзакции, инд. рупии')\n",
        "plt.ylabel('Частота', labelpad=15)\n",
        "plt.grid(False)\n",
        "plt.show()\n",
        "\n",
        "# Построение ящика с усами\n",
        "plt.figure(figsize=(10, 4))\n",
        "plt.boxplot(df_clean['transaction_amount_inr'], vert=False)\n",
        "# Вычисляем квартили вручную для точности\n",
        "q1, q2, q3 = np.percentile(df_clean['transaction_amount_inr'], [25, 50, 75])\n",
        "# Добавляем подписи квартилей\n",
        "plt.text(q1, 1.35, f'Q1 = {q1:,.1f}', ha='left', va='center', fontsize=10, bbox=dict(facecolor='white', alpha=0.8, edgecolor='gray'))\n",
        "plt.text(q1, 1.25, f'Median = {q2:,.1f}', ha='left', va='center', fontsize=10, color='red', bbox=dict(facecolor='white', alpha=0.8, edgecolor='gray'))\n",
        "plt.text(q1, 1.15, f'Q3 = {q3:,.1f}', ha='left', va='center', fontsize=10, bbox=dict(facecolor='white', alpha=0.8, edgecolor='gray'))\n",
        "# Форматирование оси\n",
        "plt.gca().xaxis.set_major_formatter(FuncFormatter(lambda x, p: f'{x/1e6:.1f}M'))\n",
        "# Настройка отображения\n",
        "plt.title('Разброс значений по суммам транзакций')\n",
        "plt.xlabel('Сумма транзакции, инд. рупии')\n",
        "plt.yticks([])\n",
        "plt.grid(axis='x', alpha=0.2)\n",
        "plt.show()"
      ],
      "metadata": {
        "colab": {
          "base_uri": "https://localhost:8080/",
          "height": 803
        },
        "id": "dyqmPg2aCKAZ",
        "outputId": "e8d29227-d367-4dfa-a46d-2c1d22042f17"
      },
      "execution_count": null,
      "outputs": [
        {
          "output_type": "display_data",
          "data": {
            "text/plain": [
              "<Figure size 800x400 with 1 Axes>"
            ],
            "image/png": "[encoded data removed]"
          },
          "metadata": {}
        },
        {
          "output_type": "display_data",
          "data": {
            "text/plain": [
              "<Figure size 1000x400 with 1 Axes>"
            ],
            "image/png": "[encoded data removed]"
          },
          "metadata": {}
        }
      ]
    },
    {
      "cell_type": "code",
      "source": [
        "# Расчитаем процент выбросов\n",
        "transactions = df_clean['transaction_amount_inr']\n",
        "\n",
        "# Рассчитываем квантили и IQR\n",
        "Q1 = transactions.quantile(0.25)\n",
        "Q3 = transactions.quantile(0.75)\n",
        "IQR = Q3 - Q1\n",
        "\n",
        "# Определяем границы\n",
        "lower_bound = Q1 - 1.5 * IQR\n",
        "upper_bound = Q3 + 1.5 * IQR\n",
        "\n",
        "# Находим выбросы\n",
        "outliers_mask = (transactions > upper_bound)\n",
        "\n",
        "# Считаем количество и долю выбросов\n",
        "number_of_outliers = outliers_mask.sum()\n",
        "percentage_of_outliers = (number_of_outliers / len(transactions)) * 100\n",
        "print(f'За верхней границей лежит {round(percentage_of_outliers)}% значений')"
      ],
      "metadata": {
        "colab": {
          "base_uri": "https://localhost:8080/"
        },
        "id": "PhGVTjipDYpz",
        "outputId": "69ab93c1-09f2-41c4-91eb-d410708d681f"
      },
      "execution_count": null,
      "outputs": [
        {
          "output_type": "stream",
          "name": "stdout",
          "text": [
            "За верхней границей лежит 11% значений\n"
          ]
        }
      ]
    },
    {
      "cell_type": "markdown",
      "source": [
        "Распределение правое асимметричное, что говорит о большом количестве мелких транзакций. 50% транзакций находятся в диапазоне от 150 до 1,101 рупий, с медианой - 424 рупий. 11% транзакций содержат сумму более 2,500 рупий. Крупные транзакции в основном содержат сумму до 600,000 рупий, за редкими исключениями, которые доходят до 1,600,000 рупий."
      ],
      "metadata": {
        "id": "KQaxFJ32DtZO"
      }
    },
    {
      "cell_type": "markdown",
      "source": [
        "**Изучим возраст клиентов**"
      ],
      "metadata": {
        "id": "DM1B7hsbNQg3"
      }
    },
    {
      "cell_type": "code",
      "source": [
        "# Расчитаем возраст пользователей на момент совершения транзакции\n",
        "df_clean['age'] = ((df_clean['transaction_date'] - df_clean['customer_dob']).dt.days / 365.25).round().astype(int)"
      ],
      "metadata": {
        "id": "4QgzvPE1I3VU"
      },
      "execution_count": null,
      "outputs": []
    },
    {
      "cell_type": "code",
      "source": [
        "# Построение гистограммы\n",
        "plt.figure(figsize=(8, 4))\n",
        "plt.hist(df_clean['age'], color='green', bins=30, edgecolor='black')\n",
        "# Форматирование оси\n",
        "plt.gca().yaxis.set_major_formatter(FuncFormatter(lambda x, p: f'{x:,.0f}'))\n",
        "# Настройка отображения\n",
        "plt.title('Распределение возраста клиентов')\n",
        "plt.xlabel('Возраст')\n",
        "plt.ylabel('Частота', labelpad=15)\n",
        "plt.grid(False)\n",
        "plt.show()"
      ],
      "metadata": {
        "colab": {
          "base_uri": "https://localhost:8080/",
          "height": 410
        },
        "id": "drnfQP41LLL_",
        "outputId": "280cf8fb-2e62-4dbf-d9c8-61c00ac9bd5d"
      },
      "execution_count": null,
      "outputs": [
        {
          "output_type": "display_data",
          "data": {
            "text/plain": [
              "<Figure size 800x400 with 1 Axes>"
            ],
            "image/png": "[encoded data removed]"
          },
          "metadata": {}
        }
      ]
    },
    {
      "cell_type": "markdown",
      "source": [
        "Большинство клиентов находятся в возрасте 25-30 лет."
      ],
      "metadata": {
        "id": "E1jGYOWIQGDp"
      }
    },
    {
      "cell_type": "markdown",
      "source": [
        "**Изучим распределение по полу клиентов**"
      ],
      "metadata": {
        "id": "3z5GLg4mQ2Qo"
      }
    },
    {
      "cell_type": "code",
      "source": [
        "# Считаем долю мужчин и женщин\n",
        "gender_counts = df_clean['cust_gender'].value_counts()\n",
        "gender_counts_shares = gender_counts / gender_counts.sum() * 100\n",
        "gender_counts_shares = gender_counts_shares.reset_index()"
      ],
      "metadata": {
        "id": "xOKZrNuc4j41"
      },
      "execution_count": null,
      "outputs": []
    },
    {
      "cell_type": "code",
      "source": [
        "# Построение круговой диаграммы\n",
        "plt.figure(figsize=(6, 6))\n",
        "plt.pie(gender_counts_shares['count'], labels=gender_counts_shares['cust_gender'],\n",
        "        colors=['green', 'orange'], autopct='%1.1f%%', startangle=90)\n",
        "# Настройка отображения\n",
        "plt.title('Распределение клиентов по полу')\n",
        "plt.show()"
      ],
      "metadata": {
        "id": "YBz8X4Uj8vor",
        "colab": {
          "base_uri": "https://localhost:8080/",
          "height": 521
        },
        "outputId": "72b4af8b-4b1e-40ed-8cd9-62ca74e5c5f3"
      },
      "execution_count": null,
      "outputs": [
        {
          "output_type": "display_data",
          "data": {
            "text/plain": [
              "<Figure size 600x600 with 1 Axes>"
            ],
            "image/png": "[encoded data removed]"
          },
          "metadata": {}
        }
      ]
    },
    {
      "cell_type": "markdown",
      "source": [
        "72.2% клиентов банка - это мужчины, и лишь 27.8% клиентов являются женщинами."
      ],
      "metadata": {
        "id": "Tso2FKftTOFz"
      }
    },
    {
      "cell_type": "markdown",
      "source": [
        "**Изучим место жительства клиентов**"
      ],
      "metadata": {
        "id": "f_sip95RT_5y"
      }
    },
    {
      "cell_type": "markdown",
      "source": [
        "Так как в данных очень много городов, сделаем визуализацию для ТОП-10 городов."
      ],
      "metadata": {
        "id": "_RngepRsV4eS"
      }
    },
    {
      "cell_type": "code",
      "source": [
        "# Посчитаем количество клиентов в каждом городе\n",
        "cnt_customer_per_cities = df_clean.groupby('cust_location')['customer_id'].count().sort_values(ascending=False)[:10]"
      ],
      "metadata": {
        "id": "sJatsNcX4zJo"
      },
      "execution_count": null,
      "outputs": []
    },
    {
      "cell_type": "code",
      "source": [
        "# Построение столбчатой диаграммы\n",
        "plt.figure(figsize=(8, 4))\n",
        "bars = plt.barh(cnt_customer_per_cities.index, cnt_customer_per_cities.values, color='green')\n",
        "plt.gca().invert_yaxis()\n",
        "# Добавляем подписи значений\n",
        "for bar in bars:\n",
        "    xval = bar.get_width()\n",
        "    plt.text(xval + 0.5,\n",
        "             bar.get_y() + bar.get_height()/2,\n",
        "             f\"{xval/1000:,.0f}K\",\n",
        "             ha='left', va='center')\n",
        "# Форматирование оси\n",
        "plt.gca().xaxis.set_major_formatter(FuncFormatter(lambda x, p: f'{x:,.0f}'))\n",
        "# Настройка отображения\n",
        "plt.title('ТОП-10 городов по количеству клиентов')\n",
        "plt.xlabel('Количество клиентов', labelpad=10)\n",
        "plt.xticks([0, 88000])\n",
        "plt.grid(False)\n",
        "plt.show()"
      ],
      "metadata": {
        "id": "9k4Iff8-83QD",
        "colab": {
          "base_uri": "https://localhost:8080/",
          "height": 418
        },
        "outputId": "6a8e44d1-355f-4efb-fcba-cdc07028575a"
      },
      "execution_count": null,
      "outputs": [
        {
          "output_type": "display_data",
          "data": {
            "text/plain": [
              "<Figure size 800x400 with 1 Axes>"
            ],
            "image/png": "[encoded data removed]"
          },
          "metadata": {}
        }
      ]
    },
    {
      "cell_type": "markdown",
      "source": [
        "Большая часть клиентов находится в городе Мумбай, около 81,000 уникальных пользователей."
      ],
      "metadata": {
        "id": "4BWD4CCVc5ne"
      }
    },
    {
      "cell_type": "markdown",
      "source": [
        "**Посмотрим динамику по количеству транзакций**"
      ],
      "metadata": {
        "id": "HqJEV3WEdy50"
      }
    },
    {
      "cell_type": "code",
      "source": [
        "# Считаем количество транзакций на каждый день для полных месяцев\n",
        "cnt_transactions = df_clean.groupby('transaction_date')['transaction_id'].count().sort_index()[:-2]"
      ],
      "metadata": {
        "id": "TUaDRprB43qo"
      },
      "execution_count": null,
      "outputs": []
    },
    {
      "cell_type": "code",
      "source": [
        "# Построение линейного графика\n",
        "plt.figure(figsize=(12, 5))\n",
        "plt.plot(cnt_transactions.index, cnt_transactions.values, marker='o', color='green')\n",
        "# Форматирование оси\n",
        "plt.gca().yaxis.set_major_formatter(FuncFormatter(lambda x, p: f'{x:,.0f}'))\n",
        "# Настройка отображения\n",
        "plt.title('Количество транзакций по дням')\n",
        "plt.ylabel('Количество транзакций', labelpad=20)\n",
        "plt.grid(alpha=0.5)\n",
        "plt.xticks(rotation=45)\n",
        "plt.show()"
      ],
      "metadata": {
        "id": "WKQZskZ687wd",
        "colab": {
          "base_uri": "https://localhost:8080/",
          "height": 520
        },
        "outputId": "bfffbdc9-7c72-4274-f2f4-c07247e69c2f"
      },
      "execution_count": null,
      "outputs": [
        {
          "output_type": "display_data",
          "data": {
            "text/plain": [
              "<Figure size 1200x500 with 1 Axes>"
            ],
            "image/png": "[encoded data removed]"
          },
          "metadata": {}
        }
      ]
    },
    {
      "cell_type": "markdown",
      "source": [
        "В августе количество транзакций в день совершалось от 14,000 до 20,000. В начале сентября этот показатель увеличился до 23,000, но в середине месяца произошел резкий спад и за несколько дней упал ниже 5,000 транзакций в день. Такое событие может говорить о резком оттоке клиентов или о сбое в системе обработки данных. Возможно, удаление информации повлияло на динамику графика."
      ],
      "metadata": {
        "id": "SMl703i2BbTK"
      }
    },
    {
      "cell_type": "code",
      "source": [
        "# Посчитаем аналогичную динамику до очистки данных\n",
        "cnt_transactions_before_cleaning = df.groupby('transaction_date')['transaction_id'].count().sort_index()[:-2]\n",
        "\n",
        "# Построение линейного графика\n",
        "plt.figure(figsize=(12, 5))\n",
        "plt.plot(cnt_transactions_before_cleaning.index, cnt_transactions_before_cleaning.values, marker='o', color='green')\n",
        "# Форматирование оси\n",
        "plt.gca().yaxis.set_major_formatter(FuncFormatter(lambda x, p: f'{x:,.0f}'))\n",
        "# Настройка отображения\n",
        "plt.title('Количество транзакций по дням')\n",
        "plt.ylabel('Количество транзакций', labelpad=20)\n",
        "plt.grid(alpha=0.5)\n",
        "plt.xticks(rotation=45)\n",
        "plt.show()"
      ],
      "metadata": {
        "colab": {
          "base_uri": "https://localhost:8080/",
          "height": 520
        },
        "id": "VlSuAtlREgFe",
        "outputId": "138543bc-15b0-4d6e-c660-44ee6494d473"
      },
      "execution_count": null,
      "outputs": [
        {
          "output_type": "display_data",
          "data": {
            "text/plain": [
              "<Figure size 1200x500 with 1 Axes>"
            ],
            "image/png": "[encoded data removed]"
          },
          "metadata": {}
        }
      ]
    },
    {
      "cell_type": "markdown",
      "source": [
        "Очистка данных затронула в основном первый месяц и начало второго. В середине сентября действительно происходили события, которые нужно изучить внимательнее."
      ],
      "metadata": {
        "id": "VgFFbGYKHYOy"
      }
    },
    {
      "cell_type": "markdown",
      "source": [
        "**Посмотрим динамику по количеству уникальных пользователей**"
      ],
      "metadata": {
        "id": "lQmyS9OUIjDx"
      }
    },
    {
      "cell_type": "markdown",
      "source": [
        "Так как в очищенных данных у каждого пользователя одна транзакция, посмотрим на распределение клиентов в изначальных данных."
      ],
      "metadata": {
        "id": "0p4ApS5ZKfNg"
      }
    },
    {
      "cell_type": "code",
      "source": [
        "# Считаем количество уникальных пользователей на каждый день для полных месяцев\n",
        "cnt_customers_before_cleaning = df.groupby('transaction_date')['customer_id'].nunique().sort_index()[:-2]"
      ],
      "metadata": {
        "id": "Dj1OnaS2I5z9"
      },
      "execution_count": null,
      "outputs": []
    },
    {
      "cell_type": "code",
      "source": [
        "# Построение линейного графика\n",
        "plt.figure(figsize=(12, 5))\n",
        "plt.plot(cnt_customers_before_cleaning.index, cnt_customers_before_cleaning.values, marker='o', color='green')\n",
        "# Форматирование оси\n",
        "plt.gca().yaxis.set_major_formatter(FuncFormatter(lambda x, p: f'{x:,.0f}'))\n",
        "# Настройка отображения\n",
        "plt.title('Количество уникальных пользователей по дням')\n",
        "plt.ylabel('Количество пользователей', labelpad=20)\n",
        "plt.grid(alpha=0.5)\n",
        "plt.xticks(rotation=45)\n",
        "plt.show()"
      ],
      "metadata": {
        "colab": {
          "base_uri": "https://localhost:8080/",
          "height": 520
        },
        "id": "KqMK9YteJKmN",
        "outputId": "325cef31-5267-4318-e2d7-f58768dbe2de"
      },
      "execution_count": null,
      "outputs": [
        {
          "output_type": "display_data",
          "data": {
            "text/plain": [
              "<Figure size 1200x500 with 1 Axes>"
            ],
            "image/png": "[encoded data removed]"
          },
          "metadata": {}
        }
      ]
    },
    {
      "cell_type": "markdown",
      "source": [
        "График не изменился, в изначальных данных у большинства пользователей, тоже было только по одной транзакции. Понять природу резкого спада, поможет дополнительная информация, которой нет в наших данных. Например, история технических ошибок за сентябрь или финансовые отчеты за этот же месяц.\n",
        "\n",
        "Далее для анализа будем использовать очищенный датафрейм."
      ],
      "metadata": {
        "id": "vmrXPmbnNNf4"
      }
    },
    {
      "cell_type": "markdown",
      "source": [
        "**Посмотрим динамику по сумме транзакций**"
      ],
      "metadata": {
        "id": "NQmGMhaHO9_T"
      }
    },
    {
      "cell_type": "code",
      "source": [
        "# Считаем сумму транзакций на каждый день для полных месяцев\n",
        "sum_transactions = df_clean.groupby('transaction_date')['transaction_amount_inr'].sum().sort_index()[:-2]"
      ],
      "metadata": {
        "id": "YxT8-OY09RJC"
      },
      "execution_count": null,
      "outputs": []
    },
    {
      "cell_type": "code",
      "source": [
        "# Построение линейного графика\n",
        "plt.figure(figsize=(12, 5))\n",
        "plt.plot(sum_transactions.index, sum_transactions.values, marker='o', color='green')\n",
        "# Форматирование оси\n",
        "plt.gca().yaxis.set_major_formatter(FuncFormatter(lambda x, p: f'{x/1e6:,.0f}M'))\n",
        "# Настройка отображения\n",
        "plt.title('Сумма транзакций по дням')\n",
        "plt.ylabel('Сумма, инд. рупии', labelpad=20)\n",
        "plt.grid(alpha=0.5)\n",
        "plt.xticks(rotation=45)\n",
        "plt.show()"
      ],
      "metadata": {
        "colab": {
          "base_uri": "https://localhost:8080/",
          "height": 520
        },
        "id": "IM6fSHd4P6nZ",
        "outputId": "d6cf157a-2cef-45a9-a52b-840ec7629d25"
      },
      "execution_count": null,
      "outputs": [
        {
          "output_type": "display_data",
          "data": {
            "text/plain": [
              "<Figure size 1200x500 with 1 Axes>"
            ],
            "image/png": "[encoded data removed]"
          },
          "metadata": {}
        }
      ]
    },
    {
      "cell_type": "markdown",
      "source": [
        "В августе сумма транзакций колебалась от 16 млн. до 32 млн. рупий, с пиковыми значениями 6 и 14 августа. В сентябре видим рост до 36 млн. рупий - 4 числа и 35 млн. рупий - 11 числа, после чего происходит резкий спад ниже 5 млн. рупий в день на конец месяца. Спад аналогичный как на графике с количеством транзакций."
      ],
      "metadata": {
        "id": "EwjTF_sBQ1C-"
      }
    },
    {
      "cell_type": "markdown",
      "source": [
        "**Разделим клиентов по возрасту и определим самую платежеспособную группу**"
      ],
      "metadata": {
        "id": "8fx9Ou3_Z-9f"
      }
    },
    {
      "cell_type": "code",
      "source": [
        "# Разбиваем клиентов на группы\n",
        "df_clean['age_groups'] = pd.cut(df_clean['age'],\n",
        "                                bins=[0, 20, 35, 50, 65, 120],\n",
        "                                labels=['до 20', '21-35', '36-50', '51-65', '66 и старше'])"
      ],
      "metadata": {
        "id": "EJWEquJH9U93"
      },
      "execution_count": null,
      "outputs": []
    },
    {
      "cell_type": "code",
      "source": [
        "# Считаем сумму транзакций для каждой группы\n",
        "sum_transactions_age_groups = df_clean.groupby('age_groups', observed=True)['transaction_amount_inr'].sum().sort_values(ascending=False)"
      ],
      "metadata": {
        "id": "g_7roo54ec_W"
      },
      "execution_count": null,
      "outputs": []
    },
    {
      "cell_type": "code",
      "source": [
        "# Построение столбчатой диаграммы\n",
        "plt.figure(figsize=(12, 6))\n",
        "bars = plt.bar(sum_transactions_age_groups.index, sum_transactions_age_groups.values, color='green')\n",
        "# Добавление подписей значений на каждом столбце\n",
        "for bar in bars:\n",
        "    yval = bar.get_height()\n",
        "    plt.text(bar.get_x() + bar.get_width()/2, yval + 0.1, f\"{int(yval)/1e6:.1f}M\", ha='center', va='bottom')\n",
        "# Настройка отображения\n",
        "plt.title('Сумма транзакций в каждой группе')\n",
        "plt.ylabel('Сумма, инд.рупии', labelpad=10)\n",
        "plt.xlabel('Возрастные группы', labelpad=10)\n",
        "plt.yticks([])\n",
        "plt.grid(False)\n",
        "plt.show()"
      ],
      "metadata": {
        "colab": {
          "base_uri": "https://localhost:8080/",
          "height": 572
        },
        "id": "TOiYrqc3ggxZ",
        "outputId": "00cb8f91-b112-4e72-9f5c-a2f4bbeec1ec"
      },
      "execution_count": null,
      "outputs": [
        {
          "output_type": "display_data",
          "data": {
            "text/plain": [
              "<Figure size 1200x600 with 1 Axes>"
            ],
            "image/png": "[encoded data removed]"
          },
          "metadata": {}
        }
      ]
    },
    {
      "cell_type": "markdown",
      "source": [
        "Группа в возросте 21-35 намного чаще делают переводы, чем другие группы. Их суммарные переводы за 2 месяца составили 731.9 млн. рупий."
      ],
      "metadata": {
        "id": "GjcywVygjyKt"
      }
    },
    {
      "cell_type": "markdown",
      "source": [
        "**Посмотрим сумму транзакций в каждом городе**"
      ],
      "metadata": {
        "id": "ltu-efCCjqH5"
      }
    },
    {
      "cell_type": "code",
      "source": [
        "# Посчитаем сумму транзакций в каждом городе\n",
        "sum_transactions_per_cities = df_clean.groupby('cust_location')['transaction_amount_inr'].sum().sort_values(ascending=False)[:10]"
      ],
      "metadata": {
        "id": "6In8xCo49s9R"
      },
      "execution_count": null,
      "outputs": []
    },
    {
      "cell_type": "code",
      "source": [
        "# Построение столбчатой диаграммы\n",
        "plt.figure(figsize=(8, 4))\n",
        "bars = plt.barh(sum_transactions_per_cities.index, sum_transactions_per_cities.values, color='green')\n",
        "plt.gca().invert_yaxis()\n",
        "# Форматирование оси\n",
        "plt.gca().xaxis.set_major_formatter(FuncFormatter(lambda x, p: f'{x/1e6:,.0f}M'))\n",
        "# Добавляем подписи значений\n",
        "for bar in bars:\n",
        "    xval = bar.get_width()\n",
        "    plt.text(xval + 0.5,\n",
        "             bar.get_y() + bar.get_height()/2,\n",
        "             f\"{xval/1e6:,.0f}M\",\n",
        "             ha='left', va='center')\n",
        "# Настройка отображения\n",
        "plt.title('ТОП-10 городов по сумме транзакций')\n",
        "plt.xlabel('Сумма, инд.рупии', labelpad=10)\n",
        "plt.xticks([0, 140000000])\n",
        "plt.grid(False)\n",
        "plt.show()"
      ],
      "metadata": {
        "colab": {
          "base_uri": "https://localhost:8080/",
          "height": 418
        },
        "id": "wsSnQOP1kJBu",
        "outputId": "f32c7fd2-61a7-4ddf-a9ca-7eeedb69de2b"
      },
      "execution_count": null,
      "outputs": [
        {
          "output_type": "display_data",
          "data": {
            "text/plain": [
              "<Figure size 800x400 with 1 Axes>"
            ],
            "image/png": "[encoded data removed]"
          },
          "metadata": {}
        }
      ]
    },
    {
      "cell_type": "markdown",
      "source": [
        "Мумбай лидирует среди городов по суммарно сделанным транзакциям, за два месяца было сделано транзакций на сумму 129 млн. рупий. На втором месте - город Нью-Дели, там транзакций сделано на сумму 104 млн. рупий, хотя по количеству клиентов этот город находится на третьем месте. Это значит, что клиенты из Нью-Дели делают более крупные транзакции."
      ],
      "metadata": {
        "id": "aI8qjfPWl7Kb"
      }
    },
    {
      "cell_type": "markdown",
      "source": [
        "**Посмотрим на среднюю транзакцию по городам**"
      ],
      "metadata": {
        "id": "GDde74aNp-GA"
      }
    },
    {
      "cell_type": "code",
      "source": [
        "# Посчитаем среднюю транзакцию в каждом городе\n",
        "mean_transactions_per_cities = df_clean.groupby('cust_location')['transaction_amount_inr'].mean().sort_values(ascending=False)[:10]"
      ],
      "metadata": {
        "id": "RHZfBB1h952D"
      },
      "execution_count": null,
      "outputs": []
    },
    {
      "cell_type": "code",
      "source": [
        "# Построение столбчатой диаграммы\n",
        "plt.figure(figsize=(8, 4))\n",
        "bars = plt.barh(mean_transactions_per_cities.index, mean_transactions_per_cities.values, color='green')\n",
        "plt.gca().invert_yaxis()\n",
        "# Форматирование оси\n",
        "plt.gca().xaxis.set_major_formatter(FuncFormatter(lambda x, p: f'{x:,.0f}'))\n",
        "# Добавляем подписи значений\n",
        "for bar in bars:\n",
        "    xval = bar.get_width()\n",
        "    plt.text(xval + 0.5,\n",
        "             bar.get_y() + bar.get_height()/2,\n",
        "             f\"{xval/1000:.0f}K\",\n",
        "             ha='left', va='center')\n",
        "# Настройка отображения\n",
        "plt.title('ТОП-10 городов по наибольшей средней транзакции')\n",
        "plt.xlabel('Сумма, инд.рупии', labelpad=10)\n",
        "plt.xticks([0, 130000])\n",
        "plt.grid(False)\n",
        "plt.show()"
      ],
      "metadata": {
        "colab": {
          "base_uri": "https://localhost:8080/",
          "height": 419
        },
        "id": "ftqiGKh6qj5i",
        "outputId": "e3e36b76-f818-47a6-e0d9-4f4fac4ed73a"
      },
      "execution_count": null,
      "outputs": [
        {
          "output_type": "display_data",
          "data": {
            "text/plain": [
              "<Figure size 800x400 with 1 Axes>"
            ],
            "image/png": "[encoded data removed]"
          },
          "metadata": {}
        }
      ]
    },
    {
      "cell_type": "markdown",
      "source": [
        "Если смотреть среднюю транзакцию в городе, то лидеры здесь полностью меняются. Наибольшая средняя транзакция в городах Румфорд и Мюнхен, 118,000 и 113,000 рупий соответственно."
      ],
      "metadata": {
        "id": "H8Ex-uPft2yq"
      }
    },
    {
      "cell_type": "markdown",
      "source": [
        "**Посмотрим в какое время суток чаще делают транзакции**"
      ],
      "metadata": {
        "id": "AREh3f0bv3ix"
      }
    },
    {
      "cell_type": "code",
      "source": [
        "# Извлекаем часы\n",
        "df_clean['hour'] = df_clean['transaction_time'].apply(lambda x: x.hour)\n",
        "\n",
        "# Считаем частотность каждого часа\n",
        "cnt_hours = df_clean['hour'].value_counts().sort_index()"
      ],
      "metadata": {
        "id": "5TuX6AMqwoP5"
      },
      "execution_count": null,
      "outputs": []
    },
    {
      "cell_type": "code",
      "source": [
        "# Построение столбчатой диаграммы\n",
        "plt.figure(figsize=(12, 6))\n",
        "bars = plt.bar(cnt_hours.index, cnt_hours.values, color='green')\n",
        "# Форматирование оси\n",
        "plt.gca().yaxis.set_major_formatter(FuncFormatter(lambda x, p: f'{x:,.0f}'))\n",
        "# Настройка отображения\n",
        "plt.title('Количество транзакций по времени суток')\n",
        "plt.ylabel('Количество транзакций', labelpad=10)\n",
        "plt.xlabel('Часы, hh', labelpad=15)\n",
        "plt.xticks(cnt_hours.index)\n",
        "plt.grid(axis='y', alpha=0.3)\n",
        "plt.show()"
      ],
      "metadata": {
        "colab": {
          "base_uri": "https://localhost:8080/",
          "height": 579
        },
        "id": "29HaRUGU0EDU",
        "outputId": "7c0e86a2-aedf-4ff9-b18a-812bf14da3f0"
      },
      "execution_count": null,
      "outputs": [
        {
          "output_type": "display_data",
          "data": {
            "text/plain": [
              "<Figure size 1200x600 with 1 Axes>"
            ],
            "image/png": "[encoded data removed]"
          },
          "metadata": {}
        }
      ]
    },
    {
      "cell_type": "markdown",
      "source": [
        "Рост количества транзакций начинается после 6 утра и достигает своих пиковых значений с 20:00 до 21:00 часов. После количество транзакций резко уменьшается."
      ],
      "metadata": {
        "id": "Ypt0B5kJ5f4i"
      }
    },
    {
      "cell_type": "markdown",
      "source": [
        "# Выводы по исследовательскому анализу"
      ],
      "metadata": {
        "id": "kYhC2SN5-vx8"
      }
    },
    {
      "cell_type": "markdown",
      "source": [
        "* В наших данных есть 828,302 уникальных транзакций, где каждая транзакция принадлежит уникальному клиенту.\n",
        "* Счета в банке в основном мелкие, 50% из них находятся в диапазоне от 4,583 до 51,588 рупий. Есть и крупные счета от 100,000 до 1,400,000 рупий, таких счетов 13% от всего объема данных.\n",
        "* Суммы транзакций в основном находятся в диапазоне от 150 до 1,101 рупий. 11% транзакций содержат сумму более 2,500 рупий.\n",
        "* Большинство клиентов находятся в возрасте 25-30 лет. Самая платежеспособная группа по возрасту 21-35 лет, их суммарные переводы за 2 месяца составили 731.9 млн. рупий.\n",
        "* 72.2% клиентов банка - это мужчины, и лишь 27.8% клиентов являются женщинами.\n",
        "* Большая часть клиентов находится в городе Мумбай, там около 81,000 уникальных пользователей. Также Мумбай лидирует по суммарно сделанным транзакциям, за два месяца было сделано транзакций на сумму 129 млн. рупий. Если смотреть среднюю транзакцию в городе, то лидеры здесь полностью меняются. Наибольшая средняя транзакция в городах Румфорд и Мюнхен, 118,000 и 113,000 рупий соответственно.\n",
        "* В августе количество транзакций в день совершалось от 14,000 до 20,000. В начале сентября этот показатель увеличился до 23,000, но в середине месяца произошел резкий спад и за несколько дней упал ниже 5,000 транзакций в день. Такое событие может говорить о резком оттоке клиентов или о сбое в системе обработки данных. Понять природу резкого спада, поможет дополнительная информация, например, история технических ошибок за сентябрь или финансовые отчеты за этот же месяц.\n",
        "* В августе сумма транзакций колебалась от 16 млн. до 32 млн. рупий, с пиковыми значениями 6 и 14 августа. В сентябре видим рост до 36 млн. рупий - 4 числа и 35 млн. рупий - 11 числа, после чего происходит резкий спад ниже 5 млн. рупий в день на конец месяца. Спад аналогичный как с количеством транзакций.\n",
        "* Дневная активность транзакций начинается после 6 утра и достигает своих пиковых значений с 20:00 до 21:00 часов. После количество транзакций резко уменьшается."
      ],
      "metadata": {
        "id": "8CGyl8pg7BO6"
      }
    },
    {
      "cell_type": "code",
      "source": [],
      "metadata": {
        "id": "htbynnEt1a6a"
      },
      "execution_count": null,
      "outputs": []
    }
  ]
}